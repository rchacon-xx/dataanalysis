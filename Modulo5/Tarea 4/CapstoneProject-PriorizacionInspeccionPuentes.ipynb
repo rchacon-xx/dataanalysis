{
 "cells": [
  {
   "cell_type": "markdown",
   "metadata": {},
   "source": [
    "#  Predicción sobre el Sistema Administrador de Estructuras de Puentes del CONAVI\n",
    "\n"
   ]
  },
  {
   "cell_type": "markdown",
   "metadata": {},
   "source": [
    "# 1. Introducción"
   ]
  },
  {
   "cell_type": "markdown",
   "metadata": {},
   "source": [
    "El CONAVI cuenta con un inventario de una parte de los puentes de rutas nacionales, aproximadamente 1800 puentes de más de 5000 puentes que existen a lo largo del país. En los datos se muestran 2224 registros que corresponden a esos 1800 puentes, cada registro es una superestructura (cada puente esta constituido de una o más superestructuras)\n",
    "\n",
    "Estos puentes han sido inspeccionados por ingenieros especializados del TEC, contratados para este propósito.\n",
    "\n",
    "La información de las inspecciones pasan por algoritmos especializados de ingeniería civil, que permite determinar la \"prioridad de reparación\" de los puentes para ser intervenidos o reparados según daños reportados.\n",
    "\n",
    "Actualmente, el CONAVI está en el proceso de iniciar una segunda etapa de levantamiento del inventario de puentes y realizar las inspecciones al resto de puentes de rutas nacionales.\n",
    "\n",
    "Las inspecciones de los puentes toman un tiempo considerable del recurso especializado para esta labor, por lo que una de las interrogantes clave es:\n",
    "      \n",
    "      si se puede determinar una \"prioridad\" para planificar estas inspecciones basada en: 1) en la prioridad de reparación  de los puentes que ya han pasado por el proceso de inspección y 2) en la información general de los puentes restantes (puentes que serán inspeccionados)\n",
    "\n",
    "De esta manera se puede optimizar el uso de los recursos y visitar primero regiones del país donde los puentes estén más dañados para conocer su condición real y enfocar los esfuerzos de reparación según la urgencia real."
   ]
  },
  {
   "cell_type": "markdown",
   "metadata": {},
   "source": [
    "# 2. Restricción de confidencialidad sobre los datos "
   ]
  },
  {
   "cell_type": "markdown",
   "metadata": {},
   "source": [
    "Debido a que la información de la prioridad de reparación es confidencial se adjunta como parte del trabajo final un subconjunto de 100 de los puentes y se oculta la columna del nombre del puente. "
   ]
  },
  {
   "cell_type": "markdown",
   "metadata": {},
   "source": [
    "# 3. Descripción del conjunto de datos"
   ]
  },
  {
   "attachments": {},
   "cell_type": "markdown",
   "metadata": {},
   "source": [
    "* X1 a X5: datos generales del puente: Nombre, Provincia, cantón, distrito\n",
    "* X6:      número de ruta nacional a la que pertenece el puente\n",
    "* X7:      kilómetro en el que se encuentra el puente\n",
    "* X8:      longitud del puente\n",
    "* X9:      tipo de puente: Alcantarilla, paso inferior, paso superior, puente\n",
    "* X11:     Calzada\n",
    "* X12:     clasificación: primario, secundario, terciario\n",
    "* X13-X19,\n",
    "  X27-X33: dimensiones del camino\n",
    "* X20-X21: longitud y latitud.  \n",
    "* X22:     tipo de pavimento: asfalto, concreto, sin superficie de rodamiento, otro\n",
    "* X23:     cantidad de superestructuras\n",
    "* X24:     cantidad de subestructuras\n",
    "* X25:     Número de tramos\n",
    "* X26:     Ancho total\n",
    "* X34:     Id de superestructura\n",
    "* X35:     tipo de viga: cajón, losa, otros, troncos, viga I, viga T\n",
    "* X36:     Altura de la viga \n",
    "* X37:     Cantidad de elementos principales\n",
    "* X38:     Alineación de planta\n",
    "* X39:     Longitud del tramo más largo\n",
    "* X40:     tipo de estructura: acero, compuesto concreto acero, acero presforzado, acero reforzado, madera, mampostería, otros\n",
    "* X41:     superestructura: arco paso superior, cercha mediana altura, cercha paso inferior, cercha paso superior, colgante, marco rígido, otros, viga continua, viga simple.\n",
    "* Y:       prioridad de reparación: dato generado por los algoritmos especializados del sistema según información de las inspecciones realizadas."
   ]
  },
  {
   "cell_type": "markdown",
   "metadata": {},
   "source": [
    "# 4. Análisis y modelado del problema en Python"
   ]
  },
  {
   "cell_type": "markdown",
   "metadata": {},
   "source": [
    "## 4.1 Carga de librerías"
   ]
  },
  {
   "cell_type": "code",
   "execution_count": 39,
   "metadata": {},
   "outputs": [],
   "source": [
    "import numpy as np\n",
    "import pandas as pd\n",
    "import scipy\n",
    "import matplotlib.pyplot as plt\n",
    "from pandas.api.types import CategoricalDtype\n",
    "from pandas import Series, DataFrame\n",
    "import matplotlib as mpl\n",
    "import seaborn as sns\n",
    "import sys\n",
    "\n",
    "\n",
    "#cross validation\n",
    "from sklearn.model_selection import train_test_split\n",
    "\n",
    "### para el preprocesamiento de los datos y estandarizar o remover media varianza y escala de varianza\n",
    "from sklearn import preprocessing\n",
    "from sklearn.preprocessing import Normalizer\n",
    "\n",
    "# Se importan los estimators\n",
    "from sklearn.ensemble import RandomForestRegressor\n",
    "from sklearn.linear_model import LinearRegression\n",
    "from sklearn.svm import SVR\n",
    "from sklearn import linear_model\n",
    "from sklearn import neighbors\n",
    "from sklearn.experimental import enable_hist_gradient_boosting  # noqa\n",
    "from sklearn.ensemble import HistGradientBoostingRegressor\n",
    "from sklearn.linear_model import LassoCV\n",
    "from sklearn.linear_model import RidgeCV\n",
    "\n",
    "\n",
    "#model metrics\n",
    "from sklearn.metrics import mean_squared_error\n",
    "from sklearn.metrics import r2_score\n",
    "from sklearn.model_selection import cross_val_score\n",
    "from math import sqrt"
   ]
  },
  {
   "cell_type": "markdown",
   "metadata": {},
   "source": [
    "## 4.2 Carga de datos "
   ]
  },
  {
   "cell_type": "code",
   "execution_count": 2,
   "metadata": {},
   "outputs": [
    {
     "data": {
      "text/html": [
       "<div>\n",
       "<style scoped>\n",
       "    .dataframe tbody tr th:only-of-type {\n",
       "        vertical-align: middle;\n",
       "    }\n",
       "\n",
       "    .dataframe tbody tr th {\n",
       "        vertical-align: top;\n",
       "    }\n",
       "\n",
       "    .dataframe thead th {\n",
       "        text-align: right;\n",
       "    }\n",
       "</style>\n",
       "<table border=\"1\" class=\"dataframe\">\n",
       "  <thead>\n",
       "    <tr style=\"text-align: right;\">\n",
       "      <th></th>\n",
       "      <th>ConsecutivoPuente</th>\n",
       "      <th>NombrePuente</th>\n",
       "      <th>Provincia</th>\n",
       "      <th>Canton</th>\n",
       "      <th>Distrito</th>\n",
       "      <th>Encargado</th>\n",
       "      <th>Ruta</th>\n",
       "      <th>Kilometro</th>\n",
       "      <th>Longitud</th>\n",
       "      <th>TipoPuente</th>\n",
       "      <th>...</th>\n",
       "      <th>NoSuperestructura</th>\n",
       "      <th>TipoViga</th>\n",
       "      <th>AlturaViga</th>\n",
       "      <th>NoElementosPrincipales</th>\n",
       "      <th>AlineacionPlanta</th>\n",
       "      <th>TramoMaximo</th>\n",
       "      <th>TipoEstructura</th>\n",
       "      <th>Superestructura</th>\n",
       "      <th>LongitudTotal</th>\n",
       "      <th>PrioridadReparacion</th>\n",
       "    </tr>\n",
       "  </thead>\n",
       "  <tbody>\n",
       "    <tr>\n",
       "      <td>0</td>\n",
       "      <td>2</td>\n",
       "      <td>QUEBRADA LA ESPERANZA</td>\n",
       "      <td>GUANACASTE</td>\n",
       "      <td>NICOYA</td>\n",
       "      <td>NOSARA</td>\n",
       "      <td>ZONA 2-4 NICOYA</td>\n",
       "      <td>160</td>\n",
       "      <td>153.229996</td>\n",
       "      <td>11.630000</td>\n",
       "      <td>PUENTE</td>\n",
       "      <td>...</td>\n",
       "      <td>1</td>\n",
       "      <td>VIGA T</td>\n",
       "      <td>0.65</td>\n",
       "      <td>3.0</td>\n",
       "      <td>RECTA</td>\n",
       "      <td>11.630000</td>\n",
       "      <td>CONCRETO PRESFORZADO</td>\n",
       "      <td>VIGA SIMPLE</td>\n",
       "      <td>11.630000</td>\n",
       "      <td>36.56</td>\n",
       "    </tr>\n",
       "    <tr>\n",
       "      <td>1</td>\n",
       "      <td>3</td>\n",
       "      <td>RIO TABACO</td>\n",
       "      <td>GUANACASTE</td>\n",
       "      <td>SANTA CRUZ</td>\n",
       "      <td>CUAJINIQUIL</td>\n",
       "      <td>ZONA 2-3 SANTA CRUZ</td>\n",
       "      <td>160</td>\n",
       "      <td>181.455002</td>\n",
       "      <td>48.000000</td>\n",
       "      <td>PUENTE</td>\n",
       "      <td>...</td>\n",
       "      <td>1</td>\n",
       "      <td>VIGA T</td>\n",
       "      <td>0.64</td>\n",
       "      <td>4.0</td>\n",
       "      <td>RECTA</td>\n",
       "      <td>12.000000</td>\n",
       "      <td>CONCRETO PRESFORZADO</td>\n",
       "      <td>VIGA CONTINUA</td>\n",
       "      <td>48.000000</td>\n",
       "      <td>37.00</td>\n",
       "    </tr>\n",
       "    <tr>\n",
       "      <td>2</td>\n",
       "      <td>4</td>\n",
       "      <td>RIO VENADO</td>\n",
       "      <td>GUANACASTE</td>\n",
       "      <td>SANTA CRUZ</td>\n",
       "      <td>VEINTISIETE DE ABRIL</td>\n",
       "      <td>ZONA 2-3 SANTA CRUZ</td>\n",
       "      <td>160</td>\n",
       "      <td>194.520004</td>\n",
       "      <td>25.000000</td>\n",
       "      <td>PUENTE</td>\n",
       "      <td>...</td>\n",
       "      <td>1</td>\n",
       "      <td>VIGA I</td>\n",
       "      <td>0.60</td>\n",
       "      <td>4.0</td>\n",
       "      <td>RECTA</td>\n",
       "      <td>14.830000</td>\n",
       "      <td>ACERO</td>\n",
       "      <td>VIGA SIMPLE</td>\n",
       "      <td>14.830000</td>\n",
       "      <td>42.28</td>\n",
       "    </tr>\n",
       "    <tr>\n",
       "      <td>3</td>\n",
       "      <td>4</td>\n",
       "      <td>RIO VENADO</td>\n",
       "      <td>GUANACASTE</td>\n",
       "      <td>SANTA CRUZ</td>\n",
       "      <td>VEINTISIETE DE ABRIL</td>\n",
       "      <td>ZONA 2-3 SANTA CRUZ</td>\n",
       "      <td>160</td>\n",
       "      <td>194.520004</td>\n",
       "      <td>25.000000</td>\n",
       "      <td>PUENTE</td>\n",
       "      <td>...</td>\n",
       "      <td>2</td>\n",
       "      <td>LOSA</td>\n",
       "      <td>0.47</td>\n",
       "      <td>1.0</td>\n",
       "      <td>RECTA</td>\n",
       "      <td>10.230000</td>\n",
       "      <td>CONCRETO REFORZADO</td>\n",
       "      <td>OTROS</td>\n",
       "      <td>10.230000</td>\n",
       "      <td>28.80</td>\n",
       "    </tr>\n",
       "    <tr>\n",
       "      <td>4</td>\n",
       "      <td>5</td>\n",
       "      <td>RIO ANDAMOJO</td>\n",
       "      <td>GUANACASTE</td>\n",
       "      <td>SANTA CRUZ</td>\n",
       "      <td>VEINTISIETE DE ABRIL</td>\n",
       "      <td>ZONA 2-3 SANTA CRUZ</td>\n",
       "      <td>160</td>\n",
       "      <td>203.050003</td>\n",
       "      <td>34.119999</td>\n",
       "      <td>PUENTE</td>\n",
       "      <td>...</td>\n",
       "      <td>1</td>\n",
       "      <td>VIGA I</td>\n",
       "      <td>0.78</td>\n",
       "      <td>2.0</td>\n",
       "      <td>RECTA</td>\n",
       "      <td>21.629999</td>\n",
       "      <td>ACERO</td>\n",
       "      <td>VIGA CONTINUA</td>\n",
       "      <td>34.119999</td>\n",
       "      <td>35.56</td>\n",
       "    </tr>\n",
       "  </tbody>\n",
       "</table>\n",
       "<p>5 rows × 44 columns</p>\n",
       "</div>"
      ],
      "text/plain": [
       "   ConsecutivoPuente           NombrePuente   Provincia      Canton  \\\n",
       "0                  2  QUEBRADA LA ESPERANZA  GUANACASTE      NICOYA   \n",
       "1                  3             RIO TABACO  GUANACASTE  SANTA CRUZ   \n",
       "2                  4            RIO VENADO   GUANACASTE  SANTA CRUZ   \n",
       "3                  4            RIO VENADO   GUANACASTE  SANTA CRUZ   \n",
       "4                  5          RIO ANDAMOJO   GUANACASTE  SANTA CRUZ   \n",
       "\n",
       "               Distrito            Encargado  Ruta   Kilometro   Longitud  \\\n",
       "0                NOSARA      ZONA 2-4 NICOYA   160  153.229996  11.630000   \n",
       "1           CUAJINIQUIL  ZONA 2-3 SANTA CRUZ   160  181.455002  48.000000   \n",
       "2  VEINTISIETE DE ABRIL  ZONA 2-3 SANTA CRUZ   160  194.520004  25.000000   \n",
       "3  VEINTISIETE DE ABRIL  ZONA 2-3 SANTA CRUZ   160  194.520004  25.000000   \n",
       "4  VEINTISIETE DE ABRIL  ZONA 2-3 SANTA CRUZ   160  203.050003  34.119999   \n",
       "\n",
       "  TipoPuente  ...  NoSuperestructura  TipoViga AlturaViga  \\\n",
       "0     PUENTE  ...                  1    VIGA T       0.65   \n",
       "1     PUENTE  ...                  1    VIGA T       0.64   \n",
       "2     PUENTE  ...                  1    VIGA I       0.60   \n",
       "3     PUENTE  ...                  2      LOSA       0.47   \n",
       "4     PUENTE  ...                  1    VIGA I       0.78   \n",
       "\n",
       "   NoElementosPrincipales  AlineacionPlanta  TramoMaximo  \\\n",
       "0                     3.0             RECTA    11.630000   \n",
       "1                     4.0             RECTA    12.000000   \n",
       "2                     4.0             RECTA    14.830000   \n",
       "3                     1.0             RECTA    10.230000   \n",
       "4                     2.0             RECTA    21.629999   \n",
       "\n",
       "         TipoEstructura  Superestructura  LongitudTotal  PrioridadReparacion  \n",
       "0  CONCRETO PRESFORZADO      VIGA SIMPLE      11.630000                36.56  \n",
       "1  CONCRETO PRESFORZADO    VIGA CONTINUA      48.000000                37.00  \n",
       "2                 ACERO      VIGA SIMPLE      14.830000                42.28  \n",
       "3    CONCRETO REFORZADO            OTROS      10.230000                28.80  \n",
       "4                 ACERO    VIGA CONTINUA      34.119999                35.56  \n",
       "\n",
       "[5 rows x 44 columns]"
      ]
     },
     "execution_count": 2,
     "metadata": {},
     "output_type": "execute_result"
    }
   ],
   "source": [
    "#data\n",
    "puentesConCategorias = pd.read_csv('PuentesDatosProcesadosV1-conCategorias.csv', header=1)\n",
    "puentesConCategorias.head()"
   ]
  },
  {
   "cell_type": "code",
   "execution_count": 3,
   "metadata": {},
   "outputs": [
    {
     "data": {
      "text/html": [
       "<div>\n",
       "<style scoped>\n",
       "    .dataframe tbody tr th:only-of-type {\n",
       "        vertical-align: middle;\n",
       "    }\n",
       "\n",
       "    .dataframe tbody tr th {\n",
       "        vertical-align: top;\n",
       "    }\n",
       "\n",
       "    .dataframe thead th {\n",
       "        text-align: right;\n",
       "    }\n",
       "</style>\n",
       "<table border=\"1\" class=\"dataframe\">\n",
       "  <thead>\n",
       "    <tr style=\"text-align: right;\">\n",
       "      <th></th>\n",
       "      <th>ConsecutivoPuente</th>\n",
       "      <th>NombrePuente</th>\n",
       "      <th>Provincia</th>\n",
       "      <th>Canton</th>\n",
       "      <th>Distrito</th>\n",
       "      <th>Encargado</th>\n",
       "      <th>Ruta</th>\n",
       "      <th>Kilometro</th>\n",
       "      <th>Longitud</th>\n",
       "      <th>TipoPuente</th>\n",
       "      <th>...</th>\n",
       "      <th>NoSuperestructura</th>\n",
       "      <th>TipoViga</th>\n",
       "      <th>AlturaViga</th>\n",
       "      <th>NoElementosPrincipales</th>\n",
       "      <th>AlineacionPlanta</th>\n",
       "      <th>TramoMaximo</th>\n",
       "      <th>TipoEstructura</th>\n",
       "      <th>Superestructura</th>\n",
       "      <th>LongitudTotal</th>\n",
       "      <th>PrioridadReparacion</th>\n",
       "    </tr>\n",
       "  </thead>\n",
       "  <tbody>\n",
       "    <tr>\n",
       "      <td>0</td>\n",
       "      <td>2</td>\n",
       "      <td>QUEBRADA LA ESPERANZA</td>\n",
       "      <td>5</td>\n",
       "      <td>2</td>\n",
       "      <td>6</td>\n",
       "      <td>14</td>\n",
       "      <td>160</td>\n",
       "      <td>153.229996</td>\n",
       "      <td>11.630000</td>\n",
       "      <td>1</td>\n",
       "      <td>...</td>\n",
       "      <td>1</td>\n",
       "      <td>3</td>\n",
       "      <td>0.65</td>\n",
       "      <td>3</td>\n",
       "      <td>1</td>\n",
       "      <td>11.630000</td>\n",
       "      <td>2</td>\n",
       "      <td>1</td>\n",
       "      <td>11.630000</td>\n",
       "      <td>36.56</td>\n",
       "    </tr>\n",
       "    <tr>\n",
       "      <td>1</td>\n",
       "      <td>3</td>\n",
       "      <td>RIO TABACO</td>\n",
       "      <td>5</td>\n",
       "      <td>3</td>\n",
       "      <td>6</td>\n",
       "      <td>13</td>\n",
       "      <td>160</td>\n",
       "      <td>181.455002</td>\n",
       "      <td>48.000000</td>\n",
       "      <td>1</td>\n",
       "      <td>...</td>\n",
       "      <td>1</td>\n",
       "      <td>3</td>\n",
       "      <td>0.64</td>\n",
       "      <td>4</td>\n",
       "      <td>1</td>\n",
       "      <td>12.000000</td>\n",
       "      <td>2</td>\n",
       "      <td>2</td>\n",
       "      <td>48.000000</td>\n",
       "      <td>37.00</td>\n",
       "    </tr>\n",
       "    <tr>\n",
       "      <td>2</td>\n",
       "      <td>4</td>\n",
       "      <td>RIO VENADO</td>\n",
       "      <td>5</td>\n",
       "      <td>3</td>\n",
       "      <td>3</td>\n",
       "      <td>13</td>\n",
       "      <td>160</td>\n",
       "      <td>194.520004</td>\n",
       "      <td>25.000000</td>\n",
       "      <td>1</td>\n",
       "      <td>...</td>\n",
       "      <td>1</td>\n",
       "      <td>2</td>\n",
       "      <td>0.60</td>\n",
       "      <td>4</td>\n",
       "      <td>1</td>\n",
       "      <td>14.830000</td>\n",
       "      <td>1</td>\n",
       "      <td>1</td>\n",
       "      <td>14.830000</td>\n",
       "      <td>42.28</td>\n",
       "    </tr>\n",
       "    <tr>\n",
       "      <td>3</td>\n",
       "      <td>4</td>\n",
       "      <td>RIO VENADO</td>\n",
       "      <td>5</td>\n",
       "      <td>3</td>\n",
       "      <td>3</td>\n",
       "      <td>13</td>\n",
       "      <td>160</td>\n",
       "      <td>194.520004</td>\n",
       "      <td>25.000000</td>\n",
       "      <td>1</td>\n",
       "      <td>...</td>\n",
       "      <td>2</td>\n",
       "      <td>1</td>\n",
       "      <td>0.47</td>\n",
       "      <td>1</td>\n",
       "      <td>1</td>\n",
       "      <td>10.230000</td>\n",
       "      <td>3</td>\n",
       "      <td>11</td>\n",
       "      <td>10.230000</td>\n",
       "      <td>28.80</td>\n",
       "    </tr>\n",
       "    <tr>\n",
       "      <td>4</td>\n",
       "      <td>5</td>\n",
       "      <td>RIO ANDAMOJO</td>\n",
       "      <td>5</td>\n",
       "      <td>3</td>\n",
       "      <td>3</td>\n",
       "      <td>13</td>\n",
       "      <td>160</td>\n",
       "      <td>203.050003</td>\n",
       "      <td>34.119999</td>\n",
       "      <td>1</td>\n",
       "      <td>...</td>\n",
       "      <td>1</td>\n",
       "      <td>2</td>\n",
       "      <td>0.78</td>\n",
       "      <td>2</td>\n",
       "      <td>1</td>\n",
       "      <td>21.629999</td>\n",
       "      <td>1</td>\n",
       "      <td>2</td>\n",
       "      <td>34.119999</td>\n",
       "      <td>35.56</td>\n",
       "    </tr>\n",
       "  </tbody>\n",
       "</table>\n",
       "<p>5 rows × 44 columns</p>\n",
       "</div>"
      ],
      "text/plain": [
       "   ConsecutivoPuente           NombrePuente  Provincia  Canton  Distrito  \\\n",
       "0                  2  QUEBRADA LA ESPERANZA          5       2         6   \n",
       "1                  3             RIO TABACO          5       3         6   \n",
       "2                  4            RIO VENADO           5       3         3   \n",
       "3                  4            RIO VENADO           5       3         3   \n",
       "4                  5          RIO ANDAMOJO           5       3         3   \n",
       "\n",
       "   Encargado  Ruta   Kilometro   Longitud  TipoPuente  ...  NoSuperestructura  \\\n",
       "0         14   160  153.229996  11.630000           1  ...                  1   \n",
       "1         13   160  181.455002  48.000000           1  ...                  1   \n",
       "2         13   160  194.520004  25.000000           1  ...                  1   \n",
       "3         13   160  194.520004  25.000000           1  ...                  2   \n",
       "4         13   160  203.050003  34.119999           1  ...                  1   \n",
       "\n",
       "   TipoViga  AlturaViga  NoElementosPrincipales  AlineacionPlanta  \\\n",
       "0         3        0.65                       3                 1   \n",
       "1         3        0.64                       4                 1   \n",
       "2         2        0.60                       4                 1   \n",
       "3         1        0.47                       1                 1   \n",
       "4         2        0.78                       2                 1   \n",
       "\n",
       "   TramoMaximo  TipoEstructura  Superestructura  LongitudTotal  \\\n",
       "0    11.630000               2                1      11.630000   \n",
       "1    12.000000               2                2      48.000000   \n",
       "2    14.830000               1                1      14.830000   \n",
       "3    10.230000               3               11      10.230000   \n",
       "4    21.629999               1                2      34.119999   \n",
       "\n",
       "   PrioridadReparacion  \n",
       "0                36.56  \n",
       "1                37.00  \n",
       "2                42.28  \n",
       "3                28.80  \n",
       "4                35.56  \n",
       "\n",
       "[5 rows x 44 columns]"
      ]
     },
     "execution_count": 3,
     "metadata": {},
     "output_type": "execute_result"
    }
   ],
   "source": [
    "puentesConCodigos = pd.read_csv('PuentesDatosProcesadosV1-conCodigos.csv', header=1)\n",
    "puentesConCodigos.head()"
   ]
  },
  {
   "cell_type": "code",
   "execution_count": 4,
   "metadata": {},
   "outputs": [
    {
     "name": "stdout",
     "output_type": "stream",
     "text": [
      "<class 'pandas.core.frame.DataFrame'>\n",
      "RangeIndex: 2224 entries, 0 to 2223\n",
      "Data columns (total 44 columns):\n",
      "ConsecutivoPuente              2224 non-null int64\n",
      "NombrePuente                   2224 non-null object\n",
      "Provincia                      2224 non-null object\n",
      "Canton                         2224 non-null object\n",
      "Distrito                       2224 non-null object\n",
      "Encargado                      2224 non-null object\n",
      "Ruta                           2224 non-null int64\n",
      "Kilometro                      2224 non-null float64\n",
      "Longitud                       2224 non-null float64\n",
      "TipoPuente                     2224 non-null object\n",
      "AlturaLibreVerticalInferior    2224 non-null float64\n",
      "Calzada                        2224 non-null float64\n",
      "ClasificacionRuta              2224 non-null object\n",
      "H1                             2224 non-null float64\n",
      "H2                             2224 non-null float64\n",
      "H3                             2224 non-null float64\n",
      "H4                             2224 non-null float64\n",
      "H5                             2224 non-null float64\n",
      "H6                             2224 non-null float64\n",
      "H7                             2224 non-null float64\n",
      "LatitudTotalGPS                2223 non-null float64\n",
      "LongitudTotalGPS               2223 non-null float64\n",
      "TipoPavimento                  2211 non-null object\n",
      "NoDeSuperestructuras           2224 non-null int64\n",
      "NoDeSubestructuras             2224 non-null int64\n",
      "NoTramos                       2224 non-null int64\n",
      "AnchoTotal                     2224 non-null float64\n",
      "W1                             2224 non-null float64\n",
      "W2                             2224 non-null float64\n",
      "W3                             2224 non-null float64\n",
      "W4                             2224 non-null float64\n",
      "W5                             2224 non-null float64\n",
      "W6                             2224 non-null float64\n",
      "W7                             2224 non-null float64\n",
      "NoSuperestructura              2224 non-null int64\n",
      "TipoViga                       2224 non-null object\n",
      "AlturaViga                     2224 non-null float64\n",
      "NoElementosPrincipales         2223 non-null float64\n",
      "AlineacionPlanta               2224 non-null object\n",
      "TramoMaximo                    2224 non-null float64\n",
      "TipoEstructura                 2224 non-null object\n",
      "Superestructura                2224 non-null object\n",
      "LongitudTotal                  2224 non-null float64\n",
      "PrioridadReparacion            2224 non-null float64\n",
      "dtypes: float64(26), int64(6), object(12)\n",
      "memory usage: 764.6+ KB\n"
     ]
    }
   ],
   "source": [
    "puentesConCategorias.info()"
   ]
  },
  {
   "cell_type": "code",
   "execution_count": 5,
   "metadata": {},
   "outputs": [
    {
     "name": "stdout",
     "output_type": "stream",
     "text": [
      "<class 'pandas.core.frame.DataFrame'>\n",
      "RangeIndex: 2222 entries, 0 to 2221\n",
      "Data columns (total 44 columns):\n",
      "ConsecutivoPuente              2222 non-null int64\n",
      "NombrePuente                   2222 non-null object\n",
      "Provincia                      2222 non-null int64\n",
      "Canton                         2222 non-null int64\n",
      "Distrito                       2222 non-null int64\n",
      "Encargado                      2222 non-null int64\n",
      "Ruta                           2222 non-null int64\n",
      "Kilometro                      2222 non-null float64\n",
      "Longitud                       2222 non-null float64\n",
      "TipoPuente                     2222 non-null int64\n",
      "AlturaLibreVerticalInferior    2222 non-null float64\n",
      "Calzada                        2222 non-null float64\n",
      "ClasificacionRuta              2222 non-null int64\n",
      "H1                             2222 non-null float64\n",
      "H2                             2222 non-null float64\n",
      "H3                             2222 non-null float64\n",
      "H4                             2222 non-null float64\n",
      "H5                             2222 non-null float64\n",
      "H6                             2222 non-null float64\n",
      "H7                             2222 non-null float64\n",
      "LatitudTotalGPS                2222 non-null float64\n",
      "LongitudTotalGPS               2222 non-null float64\n",
      "TipoPavimento                  2222 non-null int64\n",
      "NoDeSuperestructuras           2222 non-null int64\n",
      "NoDeSubestructuras             2222 non-null int64\n",
      "NoTramos                       2222 non-null int64\n",
      "AnchoTotal                     2222 non-null float64\n",
      "W1                             2222 non-null float64\n",
      "W2                             2222 non-null float64\n",
      "W3                             2222 non-null float64\n",
      "W4                             2222 non-null float64\n",
      "W5                             2222 non-null float64\n",
      "W6                             2222 non-null float64\n",
      "W7                             2222 non-null float64\n",
      "NoSuperestructura              2222 non-null int64\n",
      "TipoViga                       2222 non-null int64\n",
      "AlturaViga                     2222 non-null float64\n",
      "NoElementosPrincipales         2222 non-null int64\n",
      "AlineacionPlanta               2222 non-null int64\n",
      "TramoMaximo                    2222 non-null float64\n",
      "TipoEstructura                 2222 non-null int64\n",
      "Superestructura                2222 non-null int64\n",
      "LongitudTotal                  2222 non-null float64\n",
      "PrioridadReparacion            2222 non-null float64\n",
      "dtypes: float64(25), int64(18), object(1)\n",
      "memory usage: 763.9+ KB\n"
     ]
    }
   ],
   "source": [
    "puentesConCodigos.info()"
   ]
  },
  {
   "cell_type": "code",
   "execution_count": 6,
   "metadata": {},
   "outputs": [],
   "source": [
    "#Se cambia a categorías los datos que lo son\n",
    "puentesConCategorias['Provincia']=puentesConCategorias['Provincia'].astype('category')\n",
    "puentesConCategorias['Canton']=puentesConCategorias['Canton'].astype('category')\n",
    "puentesConCategorias['Distrito']=puentesConCategorias['Distrito'].astype('category')\n",
    "puentesConCategorias['Encargado']=puentesConCategorias['Encargado'].astype('category')\n",
    "puentesConCategorias['Ruta']=puentesConCategorias['Ruta'].astype('category')\n",
    "puentesConCategorias['TipoPuente']=puentesConCategorias['TipoPuente'].astype('category')\n",
    "puentesConCategorias['ClasificacionRuta']=puentesConCategorias['ClasificacionRuta'].astype('category')\n",
    "puentesConCategorias['TipoPavimento']=puentesConCategorias['TipoPavimento'].astype('category')\n",
    "puentesConCategorias['TipoViga']=puentesConCategorias['TipoViga'].astype('category')\n",
    "puentesConCategorias['AlineacionPlanta']=puentesConCategorias['AlineacionPlanta'].astype('category')\n",
    "puentesConCategorias['TipoEstructura']=puentesConCategorias['TipoEstructura'].astype('category')\n",
    "puentesConCategorias['Superestructura']=puentesConCategorias['Superestructura'].astype('category')\n",
    "\n",
    "\n",
    "#Se cambia a categorías los datos que lo son\n",
    "puentesConCodigos['Provincia']=puentesConCodigos['Provincia'].astype('category')\n",
    "puentesConCodigos['Canton']=puentesConCodigos['Canton'].astype('category')\n",
    "puentesConCodigos['Distrito']=puentesConCodigos['Distrito'].astype('category')\n",
    "puentesConCodigos['Encargado']=puentesConCodigos['Encargado'].astype('category')\n",
    "puentesConCodigos['Ruta']=puentesConCodigos['Ruta'].astype('category')\n",
    "puentesConCodigos['TipoPuente']=puentesConCodigos['TipoPuente'].astype('category')\n",
    "puentesConCodigos['ClasificacionRuta']=puentesConCodigos['ClasificacionRuta'].astype('category')\n",
    "puentesConCodigos['TipoPavimento']=puentesConCodigos['TipoPavimento'].astype('category')\n",
    "puentesConCodigos['TipoViga']=puentesConCodigos['TipoViga'].astype('category')\n",
    "puentesConCodigos['AlineacionPlanta']=puentesConCodigos['AlineacionPlanta'].astype('category')\n",
    "puentesConCodigos['TipoEstructura']=puentesConCodigos['TipoEstructura'].astype('category')\n",
    "puentesConCodigos['Superestructura']=puentesConCodigos['Superestructura'].astype('category')\n"
   ]
  },
  {
   "cell_type": "markdown",
   "metadata": {},
   "source": [
    "# 5. Análisis exploratorio "
   ]
  },
  {
   "cell_type": "markdown",
   "metadata": {},
   "source": [
    "## 5.1 Distribución de los puentes "
   ]
  },
  {
   "cell_type": "code",
   "execution_count": 165,
   "metadata": {},
   "outputs": [
    {
     "data": {
      "text/plain": [
       "<seaborn.axisgrid.FacetGrid at 0x293102f8a08>"
      ]
     },
     "execution_count": 165,
     "metadata": {},
     "output_type": "execute_result"
    },
    {
     "data": {
      "image/png": "[encoded data removed]",
      "text/plain": [
       "<Figure size 540x360 with 1 Axes>"
      ]
     },
     "metadata": {
      "needs_background": "light"
     },
     "output_type": "display_data"
    }
   ],
   "source": [
    "sns.factorplot('Provincia', data=puentesConCategorias, kind='count', aspect=1.5)"
   ]
  },
  {
   "cell_type": "markdown",
   "metadata": {},
   "source": [
    "A continuación se ve la prioridad de reparación de los puentes, es un número real que va desde 0 en adelante, actualmente los puentes oscilan entre 0 y 65. También se puede ver que la mayor cantidad de puentes tienen valoraciones entre 20 y 40:"
   ]
  },
  {
   "cell_type": "code",
   "execution_count": 166,
   "metadata": {},
   "outputs": [
    {
     "data": {
      "text/plain": [
       "(array([100.,  70., 113., 329., 549., 641., 235., 152.,  31.,  12.]),\n",
       " array([ 3.33 ,  9.117, 14.904, 20.691, 26.478, 32.265, 38.052, 43.839,\n",
       "        49.626, 55.413, 61.2  ]),\n",
       " <a list of 10 Patch objects>)"
      ]
     },
     "execution_count": 166,
     "metadata": {},
     "output_type": "execute_result"
    },
    {
     "data": {
      "image/png": "[encoded data removed]",
      "text/plain": [
       "<Figure size 432x288 with 1 Axes>"
      ]
     },
     "metadata": {
      "needs_background": "light"
     },
     "output_type": "display_data"
    }
   ],
   "source": [
    "plt.hist(puentesConCategorias['PrioridadReparacion'])"
   ]
  },
  {
   "cell_type": "code",
   "execution_count": 167,
   "metadata": {},
   "outputs": [
    {
     "data": {
      "text/plain": [
       "<matplotlib.axes._subplots.AxesSubplot at 0x293103302c8>"
      ]
     },
     "execution_count": 167,
     "metadata": {},
     "output_type": "execute_result"
    },
    {
     "data": {
      "image/png": "[encoded data removed]",
      "text/plain": [
       "<Figure size 432x288 with 1 Axes>"
      ]
     },
     "metadata": {
      "needs_background": "light"
     },
     "output_type": "display_data"
    }
   ],
   "source": [
    "puentesConCategorias['PrioridadReparacion'].hist(bins=10)"
   ]
  },
  {
   "cell_type": "markdown",
   "metadata": {},
   "source": [
    "## 5.2 Agrupación de puentes según prioridad y contrastado con características clave"
   ]
  },
  {
   "cell_type": "markdown",
   "metadata": {},
   "source": [
    "Se agruparon los puentes según 4 \"bins\" de prioridad de reparación: Bajo, Medio, Alto y Muy Alto"
   ]
  },
  {
   "cell_type": "code",
   "execution_count": 168,
   "metadata": {},
   "outputs": [],
   "source": [
    "puentesConCategorias['bins'] = pd.cut(puentesConCategorias['PrioridadReparacion'],bins=[0,20,35,50,65], labels=[\"Bajo\",\"Medio\",\"Alto\",\"Muy Alto\"])\n"
   ]
  },
  {
   "cell_type": "code",
   "execution_count": 169,
   "metadata": {},
   "outputs": [
    {
     "name": "stdout",
     "output_type": "stream",
     "text": [
      "<pandas.core.groupby.generic.DataFrameGroupBy object at 0x00000293105D97C8>\n"
     ]
    }
   ],
   "source": [
    "df = puentesConCategorias.groupby(['PrioridadReparacion'])\n",
    "print (df)"
   ]
  },
  {
   "cell_type": "code",
   "execution_count": 170,
   "metadata": {},
   "outputs": [
    {
     "data": {
      "text/plain": [
       "Medio       1281\n",
       "Alto         667\n",
       "Bajo         244\n",
       "Muy Alto      40\n",
       "Name: PrioridadReparacion, dtype: int64"
      ]
     },
     "execution_count": 170,
     "metadata": {},
     "output_type": "execute_result"
    }
   ],
   "source": [
    "df = pd.cut(puentesConCategorias['PrioridadReparacion'],bins=[0,20,35,50,65], labels=[\"Bajo\",\"Medio\",\"Alto\",\"Muy Alto\"])\n",
    "df.value_counts()"
   ]
  },
  {
   "cell_type": "code",
   "execution_count": 171,
   "metadata": {},
   "outputs": [
    {
     "data": {
      "text/plain": [
       "<seaborn.axisgrid.FacetGrid at 0x29310333ac8>"
      ]
     },
     "execution_count": 171,
     "metadata": {},
     "output_type": "execute_result"
    },
    {
     "data": {
      "image/png": "[encoded data removed]",
      "text/plain": [
       "<Figure size 734.625x360 with 1 Axes>"
      ]
     },
     "metadata": {
      "needs_background": "light"
     },
     "output_type": "display_data"
    }
   ],
   "source": [
    "g = sns.factorplot('bins', data=puentesConCategorias, hue='Provincia', kind='count', aspect=1.75)\n",
    "g.set_xlabels('Priorizacion segun provincia')"
   ]
  },
  {
   "cell_type": "code",
   "execution_count": 172,
   "metadata": {},
   "outputs": [
    {
     "data": {
      "text/plain": [
       "<seaborn.axisgrid.FacetGrid at 0x29311af1c08>"
      ]
     },
     "execution_count": 172,
     "metadata": {},
     "output_type": "execute_result"
    },
    {
     "data": {
      "image/png": "[encoded data removed]",
      "text/plain": [
       "<Figure size 802.859x360 with 1 Axes>"
      ]
     },
     "metadata": {
      "needs_background": "light"
     },
     "output_type": "display_data"
    }
   ],
   "source": [
    "g = sns.factorplot('bins', data=puentesConCategorias, hue='Superestructura', kind='count', aspect=1.75)\n",
    "g.set_xlabels('Priorizacion segun tipo de superestructura')"
   ]
  },
  {
   "cell_type": "code",
   "execution_count": 173,
   "metadata": {},
   "outputs": [
    {
     "data": {
      "text/plain": [
       "<seaborn.axisgrid.FacetGrid at 0x293119fed08>"
      ]
     },
     "execution_count": 173,
     "metadata": {},
     "output_type": "execute_result"
    },
    {
     "data": {
      "image/png": "[encoded data removed]",
      "text/plain": [
       "<Figure size 746.25x360 with 1 Axes>"
      ]
     },
     "metadata": {
      "needs_background": "light"
     },
     "output_type": "display_data"
    }
   ],
   "source": [
    "g = sns.factorplot('bins', data=puentesConCategorias, hue='TipoPuente', kind='count', aspect=1.75)\n",
    "g.set_xlabels('Priorizacion segun tipo de Puente')"
   ]
  },
  {
   "cell_type": "markdown",
   "metadata": {},
   "source": [
    "En el gráfico anterior se puede visualizar que la mayor cantidad de estructuras en inventario son puentes en su mayoría sobre ríos o sus cuencas."
   ]
  },
  {
   "cell_type": "code",
   "execution_count": 174,
   "metadata": {},
   "outputs": [
    {
     "data": {
      "text/plain": [
       "<seaborn.axisgrid.FacetGrid at 0x293119f6b48>"
      ]
     },
     "execution_count": 174,
     "metadata": {},
     "output_type": "execute_result"
    },
    {
     "data": {
      "image/png": "[encoded data removed]",
      "text/plain": [
       "<Figure size 732.375x360 with 1 Axes>"
      ]
     },
     "metadata": {
      "needs_background": "light"
     },
     "output_type": "display_data"
    }
   ],
   "source": [
    "g = sns.factorplot('bins', data=puentesConCategorias, hue='ClasificacionRuta', kind='count', aspect=1.75)\n",
    "g.set_xlabels('Priorizacion segun clasificacion ruta')"
   ]
  },
  {
   "cell_type": "markdown",
   "metadata": {},
   "source": [
    "En el gráfico anterior se muestra la prioridad de reparación según el tipo de ruta (dentro de las rutas nacionales existen los 3 tipos de rutas mostrados). Es importante notra que la mayor cantidad de puentes en prioridad de reparación alta son de rutas secundarias, y para prioridad media los puentes son de rutas terciarias. Esto hace ver que puentes de rutas primarias están mejor que el resto de rutas, siendo las rutas primarias las más transitadas."
   ]
  },
  {
   "cell_type": "markdown",
   "metadata": {},
   "source": [
    "Las estructuras que más requieren intervención son puentes de concreto reforzado como se ve en el siguiente gráfico:"
   ]
  },
  {
   "cell_type": "code",
   "execution_count": 175,
   "metadata": {},
   "outputs": [
    {
     "data": {
      "text/plain": [
       "<seaborn.axisgrid.FacetGrid at 0x29311a38a08>"
      ]
     },
     "execution_count": 175,
     "metadata": {},
     "output_type": "execute_result"
    },
    {
     "data": {
      "image/png": "[encoded data removed]",
      "text/plain": [
       "<Figure size 828.75x360 with 1 Axes>"
      ]
     },
     "metadata": {
      "needs_background": "light"
     },
     "output_type": "display_data"
    }
   ],
   "source": [
    "g = sns.factorplot('bins', data=puentesConCategorias, hue='TipoEstructura', kind='count', aspect=1.75)\n",
    "g.set_xlabels('Priorizacion segun tipo de estructura')"
   ]
  },
  {
   "cell_type": "markdown",
   "metadata": {},
   "source": [
    "#  6. Modelado para predicción"
   ]
  },
  {
   "cell_type": "markdown",
   "metadata": {},
   "source": [
    "## 6.1 Generación del conjunto de entrenamiento y de pruebas "
   ]
  },
  {
   "cell_type": "code",
   "execution_count": 7,
   "metadata": {},
   "outputs": [
    {
     "name": "stdout",
     "output_type": "stream",
     "text": [
      "Resumen de features\n"
     ]
    },
    {
     "data": {
      "text/html": [
       "<div>\n",
       "<style scoped>\n",
       "    .dataframe tbody tr th:only-of-type {\n",
       "        vertical-align: middle;\n",
       "    }\n",
       "\n",
       "    .dataframe tbody tr th {\n",
       "        vertical-align: top;\n",
       "    }\n",
       "\n",
       "    .dataframe thead th {\n",
       "        text-align: right;\n",
       "    }\n",
       "</style>\n",
       "<table border=\"1\" class=\"dataframe\">\n",
       "  <thead>\n",
       "    <tr style=\"text-align: right;\">\n",
       "      <th></th>\n",
       "      <th>Provincia</th>\n",
       "      <th>Canton</th>\n",
       "      <th>Distrito</th>\n",
       "      <th>Encargado</th>\n",
       "      <th>Ruta</th>\n",
       "      <th>Kilometro</th>\n",
       "      <th>Longitud</th>\n",
       "      <th>TipoPuente</th>\n",
       "      <th>AlturaLibreVerticalInferior</th>\n",
       "      <th>Calzada</th>\n",
       "      <th>...</th>\n",
       "      <th>W7</th>\n",
       "      <th>NoSuperestructura</th>\n",
       "      <th>TipoViga</th>\n",
       "      <th>AlturaViga</th>\n",
       "      <th>NoElementosPrincipales</th>\n",
       "      <th>AlineacionPlanta</th>\n",
       "      <th>TramoMaximo</th>\n",
       "      <th>TipoEstructura</th>\n",
       "      <th>Superestructura</th>\n",
       "      <th>LongitudTotal</th>\n",
       "    </tr>\n",
       "  </thead>\n",
       "  <tbody>\n",
       "    <tr>\n",
       "      <td>0</td>\n",
       "      <td>5</td>\n",
       "      <td>2</td>\n",
       "      <td>6</td>\n",
       "      <td>14</td>\n",
       "      <td>160</td>\n",
       "      <td>153.229996</td>\n",
       "      <td>11.630000</td>\n",
       "      <td>1</td>\n",
       "      <td>2.15</td>\n",
       "      <td>3.90</td>\n",
       "      <td>...</td>\n",
       "      <td>0.15</td>\n",
       "      <td>1</td>\n",
       "      <td>3</td>\n",
       "      <td>0.65</td>\n",
       "      <td>3</td>\n",
       "      <td>1</td>\n",
       "      <td>11.630000</td>\n",
       "      <td>2</td>\n",
       "      <td>1</td>\n",
       "      <td>11.630000</td>\n",
       "    </tr>\n",
       "    <tr>\n",
       "      <td>1</td>\n",
       "      <td>5</td>\n",
       "      <td>3</td>\n",
       "      <td>6</td>\n",
       "      <td>13</td>\n",
       "      <td>160</td>\n",
       "      <td>181.455002</td>\n",
       "      <td>48.000000</td>\n",
       "      <td>1</td>\n",
       "      <td>4.50</td>\n",
       "      <td>4.00</td>\n",
       "      <td>...</td>\n",
       "      <td>0.00</td>\n",
       "      <td>1</td>\n",
       "      <td>3</td>\n",
       "      <td>0.64</td>\n",
       "      <td>4</td>\n",
       "      <td>1</td>\n",
       "      <td>12.000000</td>\n",
       "      <td>2</td>\n",
       "      <td>2</td>\n",
       "      <td>48.000000</td>\n",
       "    </tr>\n",
       "    <tr>\n",
       "      <td>2</td>\n",
       "      <td>5</td>\n",
       "      <td>3</td>\n",
       "      <td>3</td>\n",
       "      <td>13</td>\n",
       "      <td>160</td>\n",
       "      <td>194.520004</td>\n",
       "      <td>25.000000</td>\n",
       "      <td>1</td>\n",
       "      <td>5.60</td>\n",
       "      <td>4.16</td>\n",
       "      <td>...</td>\n",
       "      <td>0.22</td>\n",
       "      <td>1</td>\n",
       "      <td>2</td>\n",
       "      <td>0.60</td>\n",
       "      <td>4</td>\n",
       "      <td>1</td>\n",
       "      <td>14.830000</td>\n",
       "      <td>1</td>\n",
       "      <td>1</td>\n",
       "      <td>14.830000</td>\n",
       "    </tr>\n",
       "    <tr>\n",
       "      <td>3</td>\n",
       "      <td>5</td>\n",
       "      <td>3</td>\n",
       "      <td>3</td>\n",
       "      <td>13</td>\n",
       "      <td>160</td>\n",
       "      <td>194.520004</td>\n",
       "      <td>25.000000</td>\n",
       "      <td>1</td>\n",
       "      <td>5.60</td>\n",
       "      <td>4.16</td>\n",
       "      <td>...</td>\n",
       "      <td>0.22</td>\n",
       "      <td>2</td>\n",
       "      <td>1</td>\n",
       "      <td>0.47</td>\n",
       "      <td>1</td>\n",
       "      <td>1</td>\n",
       "      <td>10.230000</td>\n",
       "      <td>3</td>\n",
       "      <td>11</td>\n",
       "      <td>10.230000</td>\n",
       "    </tr>\n",
       "    <tr>\n",
       "      <td>4</td>\n",
       "      <td>5</td>\n",
       "      <td>3</td>\n",
       "      <td>3</td>\n",
       "      <td>13</td>\n",
       "      <td>160</td>\n",
       "      <td>203.050003</td>\n",
       "      <td>34.119999</td>\n",
       "      <td>1</td>\n",
       "      <td>4.70</td>\n",
       "      <td>4.31</td>\n",
       "      <td>...</td>\n",
       "      <td>0.00</td>\n",
       "      <td>1</td>\n",
       "      <td>2</td>\n",
       "      <td>0.78</td>\n",
       "      <td>2</td>\n",
       "      <td>1</td>\n",
       "      <td>21.629999</td>\n",
       "      <td>1</td>\n",
       "      <td>2</td>\n",
       "      <td>34.119999</td>\n",
       "    </tr>\n",
       "  </tbody>\n",
       "</table>\n",
       "<p>5 rows × 41 columns</p>\n",
       "</div>"
      ],
      "text/plain": [
       "  Provincia Canton Distrito Encargado Ruta   Kilometro   Longitud TipoPuente  \\\n",
       "0         5      2        6        14  160  153.229996  11.630000          1   \n",
       "1         5      3        6        13  160  181.455002  48.000000          1   \n",
       "2         5      3        3        13  160  194.520004  25.000000          1   \n",
       "3         5      3        3        13  160  194.520004  25.000000          1   \n",
       "4         5      3        3        13  160  203.050003  34.119999          1   \n",
       "\n",
       "   AlturaLibreVerticalInferior  Calzada  ...    W7  NoSuperestructura  \\\n",
       "0                         2.15     3.90  ...  0.15                  1   \n",
       "1                         4.50     4.00  ...  0.00                  1   \n",
       "2                         5.60     4.16  ...  0.22                  1   \n",
       "3                         5.60     4.16  ...  0.22                  2   \n",
       "4                         4.70     4.31  ...  0.00                  1   \n",
       "\n",
       "   TipoViga  AlturaViga  NoElementosPrincipales  AlineacionPlanta  \\\n",
       "0         3        0.65                       3                 1   \n",
       "1         3        0.64                       4                 1   \n",
       "2         2        0.60                       4                 1   \n",
       "3         1        0.47                       1                 1   \n",
       "4         2        0.78                       2                 1   \n",
       "\n",
       "   TramoMaximo  TipoEstructura  Superestructura  LongitudTotal  \n",
       "0    11.630000               2                1      11.630000  \n",
       "1    12.000000               2                2      48.000000  \n",
       "2    14.830000               1                1      14.830000  \n",
       "3    10.230000               3               11      10.230000  \n",
       "4    21.629999               1                2      34.119999  \n",
       "\n",
       "[5 rows x 41 columns]"
      ]
     },
     "execution_count": 7,
     "metadata": {},
     "output_type": "execute_result"
    }
   ],
   "source": [
    "#features\n",
    "features = puentesConCodigos.iloc[:,2:43]\n",
    "print('Resumen de features')\n",
    "features.head()"
   ]
  },
  {
   "cell_type": "code",
   "execution_count": 8,
   "metadata": {},
   "outputs": [
    {
     "name": "stdout",
     "output_type": "stream",
     "text": [
      "<class 'pandas.core.frame.DataFrame'>\n",
      "RangeIndex: 2222 entries, 0 to 2221\n",
      "Data columns (total 41 columns):\n",
      "Provincia                      2222 non-null category\n",
      "Canton                         2222 non-null category\n",
      "Distrito                       2222 non-null category\n",
      "Encargado                      2222 non-null category\n",
      "Ruta                           2222 non-null category\n",
      "Kilometro                      2222 non-null float64\n",
      "Longitud                       2222 non-null float64\n",
      "TipoPuente                     2222 non-null category\n",
      "AlturaLibreVerticalInferior    2222 non-null float64\n",
      "Calzada                        2222 non-null float64\n",
      "ClasificacionRuta              2222 non-null category\n",
      "H1                             2222 non-null float64\n",
      "H2                             2222 non-null float64\n",
      "H3                             2222 non-null float64\n",
      "H4                             2222 non-null float64\n",
      "H5                             2222 non-null float64\n",
      "H6                             2222 non-null float64\n",
      "H7                             2222 non-null float64\n",
      "LatitudTotalGPS                2222 non-null float64\n",
      "LongitudTotalGPS               2222 non-null float64\n",
      "TipoPavimento                  2222 non-null category\n",
      "NoDeSuperestructuras           2222 non-null int64\n",
      "NoDeSubestructuras             2222 non-null int64\n",
      "NoTramos                       2222 non-null int64\n",
      "AnchoTotal                     2222 non-null float64\n",
      "W1                             2222 non-null float64\n",
      "W2                             2222 non-null float64\n",
      "W3                             2222 non-null float64\n",
      "W4                             2222 non-null float64\n",
      "W5                             2222 non-null float64\n",
      "W6                             2222 non-null float64\n",
      "W7                             2222 non-null float64\n",
      "NoSuperestructura              2222 non-null int64\n",
      "TipoViga                       2222 non-null category\n",
      "AlturaViga                     2222 non-null float64\n",
      "NoElementosPrincipales         2222 non-null int64\n",
      "AlineacionPlanta               2222 non-null category\n",
      "TramoMaximo                    2222 non-null float64\n",
      "TipoEstructura                 2222 non-null category\n",
      "Superestructura                2222 non-null category\n",
      "LongitudTotal                  2222 non-null float64\n",
      "dtypes: category(12), float64(24), int64(5)\n",
      "memory usage: 548.1 KB\n"
     ]
    }
   ],
   "source": [
    "features.info()"
   ]
  },
  {
   "cell_type": "code",
   "execution_count": 9,
   "metadata": {},
   "outputs": [],
   "source": [
    "#Variable a predecir, en este caso va a ser la prioridad con que se deben inspeccionar los puentes\n",
    "depVar = puentesConCodigos['PrioridadReparacion']"
   ]
  },
  {
   "cell_type": "code",
   "execution_count": 10,
   "metadata": {},
   "outputs": [
    {
     "data": {
      "text/html": [
       "<div>\n",
       "<style scoped>\n",
       "    .dataframe tbody tr th:only-of-type {\n",
       "        vertical-align: middle;\n",
       "    }\n",
       "\n",
       "    .dataframe tbody tr th {\n",
       "        vertical-align: top;\n",
       "    }\n",
       "\n",
       "    .dataframe thead th {\n",
       "        text-align: right;\n",
       "    }\n",
       "</style>\n",
       "<table border=\"1\" class=\"dataframe\">\n",
       "  <thead>\n",
       "    <tr style=\"text-align: right;\">\n",
       "      <th></th>\n",
       "      <th>Provincia</th>\n",
       "      <th>Canton</th>\n",
       "      <th>Distrito</th>\n",
       "      <th>Encargado</th>\n",
       "      <th>Ruta</th>\n",
       "      <th>Kilometro</th>\n",
       "      <th>Longitud</th>\n",
       "      <th>TipoPuente</th>\n",
       "      <th>AlturaLibreVerticalInferior</th>\n",
       "      <th>Calzada</th>\n",
       "      <th>...</th>\n",
       "      <th>W7</th>\n",
       "      <th>NoSuperestructura</th>\n",
       "      <th>TipoViga</th>\n",
       "      <th>AlturaViga</th>\n",
       "      <th>NoElementosPrincipales</th>\n",
       "      <th>AlineacionPlanta</th>\n",
       "      <th>TramoMaximo</th>\n",
       "      <th>TipoEstructura</th>\n",
       "      <th>Superestructura</th>\n",
       "      <th>LongitudTotal</th>\n",
       "    </tr>\n",
       "  </thead>\n",
       "  <tbody>\n",
       "    <tr>\n",
       "      <td>0</td>\n",
       "      <td>5</td>\n",
       "      <td>2</td>\n",
       "      <td>6</td>\n",
       "      <td>14</td>\n",
       "      <td>160</td>\n",
       "      <td>153.229996</td>\n",
       "      <td>11.630000</td>\n",
       "      <td>1</td>\n",
       "      <td>2.15</td>\n",
       "      <td>3.90</td>\n",
       "      <td>...</td>\n",
       "      <td>0.15</td>\n",
       "      <td>1</td>\n",
       "      <td>3</td>\n",
       "      <td>0.65</td>\n",
       "      <td>3</td>\n",
       "      <td>1</td>\n",
       "      <td>11.630000</td>\n",
       "      <td>2</td>\n",
       "      <td>1</td>\n",
       "      <td>11.630000</td>\n",
       "    </tr>\n",
       "    <tr>\n",
       "      <td>1</td>\n",
       "      <td>5</td>\n",
       "      <td>3</td>\n",
       "      <td>6</td>\n",
       "      <td>13</td>\n",
       "      <td>160</td>\n",
       "      <td>181.455002</td>\n",
       "      <td>48.000000</td>\n",
       "      <td>1</td>\n",
       "      <td>4.50</td>\n",
       "      <td>4.00</td>\n",
       "      <td>...</td>\n",
       "      <td>0.00</td>\n",
       "      <td>1</td>\n",
       "      <td>3</td>\n",
       "      <td>0.64</td>\n",
       "      <td>4</td>\n",
       "      <td>1</td>\n",
       "      <td>12.000000</td>\n",
       "      <td>2</td>\n",
       "      <td>2</td>\n",
       "      <td>48.000000</td>\n",
       "    </tr>\n",
       "    <tr>\n",
       "      <td>2</td>\n",
       "      <td>5</td>\n",
       "      <td>3</td>\n",
       "      <td>3</td>\n",
       "      <td>13</td>\n",
       "      <td>160</td>\n",
       "      <td>194.520004</td>\n",
       "      <td>25.000000</td>\n",
       "      <td>1</td>\n",
       "      <td>5.60</td>\n",
       "      <td>4.16</td>\n",
       "      <td>...</td>\n",
       "      <td>0.22</td>\n",
       "      <td>1</td>\n",
       "      <td>2</td>\n",
       "      <td>0.60</td>\n",
       "      <td>4</td>\n",
       "      <td>1</td>\n",
       "      <td>14.830000</td>\n",
       "      <td>1</td>\n",
       "      <td>1</td>\n",
       "      <td>14.830000</td>\n",
       "    </tr>\n",
       "    <tr>\n",
       "      <td>3</td>\n",
       "      <td>5</td>\n",
       "      <td>3</td>\n",
       "      <td>3</td>\n",
       "      <td>13</td>\n",
       "      <td>160</td>\n",
       "      <td>194.520004</td>\n",
       "      <td>25.000000</td>\n",
       "      <td>1</td>\n",
       "      <td>5.60</td>\n",
       "      <td>4.16</td>\n",
       "      <td>...</td>\n",
       "      <td>0.22</td>\n",
       "      <td>2</td>\n",
       "      <td>1</td>\n",
       "      <td>0.47</td>\n",
       "      <td>1</td>\n",
       "      <td>1</td>\n",
       "      <td>10.230000</td>\n",
       "      <td>3</td>\n",
       "      <td>11</td>\n",
       "      <td>10.230000</td>\n",
       "    </tr>\n",
       "    <tr>\n",
       "      <td>4</td>\n",
       "      <td>5</td>\n",
       "      <td>3</td>\n",
       "      <td>3</td>\n",
       "      <td>13</td>\n",
       "      <td>160</td>\n",
       "      <td>203.050003</td>\n",
       "      <td>34.119999</td>\n",
       "      <td>1</td>\n",
       "      <td>4.70</td>\n",
       "      <td>4.31</td>\n",
       "      <td>...</td>\n",
       "      <td>0.00</td>\n",
       "      <td>1</td>\n",
       "      <td>2</td>\n",
       "      <td>0.78</td>\n",
       "      <td>2</td>\n",
       "      <td>1</td>\n",
       "      <td>21.629999</td>\n",
       "      <td>1</td>\n",
       "      <td>2</td>\n",
       "      <td>34.119999</td>\n",
       "    </tr>\n",
       "  </tbody>\n",
       "</table>\n",
       "<p>5 rows × 41 columns</p>\n",
       "</div>"
      ],
      "text/plain": [
       "  Provincia Canton Distrito Encargado Ruta   Kilometro   Longitud TipoPuente  \\\n",
       "0         5      2        6        14  160  153.229996  11.630000          1   \n",
       "1         5      3        6        13  160  181.455002  48.000000          1   \n",
       "2         5      3        3        13  160  194.520004  25.000000          1   \n",
       "3         5      3        3        13  160  194.520004  25.000000          1   \n",
       "4         5      3        3        13  160  203.050003  34.119999          1   \n",
       "\n",
       "   AlturaLibreVerticalInferior  Calzada  ...    W7  NoSuperestructura  \\\n",
       "0                         2.15     3.90  ...  0.15                  1   \n",
       "1                         4.50     4.00  ...  0.00                  1   \n",
       "2                         5.60     4.16  ...  0.22                  1   \n",
       "3                         5.60     4.16  ...  0.22                  2   \n",
       "4                         4.70     4.31  ...  0.00                  1   \n",
       "\n",
       "   TipoViga  AlturaViga  NoElementosPrincipales  AlineacionPlanta  \\\n",
       "0         3        0.65                       3                 1   \n",
       "1         3        0.64                       4                 1   \n",
       "2         2        0.60                       4                 1   \n",
       "3         1        0.47                       1                 1   \n",
       "4         2        0.78                       2                 1   \n",
       "\n",
       "   TramoMaximo  TipoEstructura  Superestructura  LongitudTotal  \n",
       "0    11.630000               2                1      11.630000  \n",
       "1    12.000000               2                2      48.000000  \n",
       "2    14.830000               1                1      14.830000  \n",
       "3    10.230000               3               11      10.230000  \n",
       "4    21.629999               1                2      34.119999  \n",
       "\n",
       "[5 rows x 41 columns]"
      ]
     },
     "execution_count": 10,
     "metadata": {},
     "output_type": "execute_result"
    }
   ],
   "source": [
    "#Conjunto de entrenamiento 2232 * 0.75 =  \n",
    "X_train = (features[:1677])\n",
    "X_train.head()"
   ]
  },
  {
   "cell_type": "code",
   "execution_count": 11,
   "metadata": {},
   "outputs": [
    {
     "name": "stdout",
     "output_type": "stream",
     "text": [
      "La cantidad de observaciones de la variable dependiente: 1677\n"
     ]
    },
    {
     "data": {
      "text/plain": [
       "0    36.56\n",
       "1    37.00\n",
       "2    42.28\n",
       "3    28.80\n",
       "4    35.56\n",
       "Name: PrioridadReparacion, dtype: float64"
      ]
     },
     "execution_count": 11,
     "metadata": {},
     "output_type": "execute_result"
    }
   ],
   "source": [
    "#Dependent Variable Training Set (y Training)\n",
    "y_train = depVar[: 1677]\n",
    "y_train_count = len(y_train.index)\n",
    "print('La cantidad de observaciones de la variable dependiente:',str(y_train_count))\n",
    "y_train.head()"
   ]
  },
  {
   "cell_type": "code",
   "execution_count": 13,
   "metadata": {},
   "outputs": [
    {
     "name": "stdout",
     "output_type": "stream",
     "text": [
      "Cantidad de observaciones en el conjunto de pruebas: 545\n",
      "     Provincia Canton Distrito Encargado Ruta  Kilometro   Longitud  \\\n",
      "1677         6      1        8        15    1  91.299004  98.639999   \n",
      "1678         6      1        8        15    1  91.299004  98.639999   \n",
      "1679         6      1        8        15    1  91.299004  98.639999   \n",
      "1680         6      1        8        15    1  91.299004  98.639999   \n",
      "1681         1     12        2         4  301   9.150000  18.100000   \n",
      "\n",
      "     TipoPuente  AlturaLibreVerticalInferior  Calzada  ...    W7  \\\n",
      "1677          1                         5.49     7.30  ...  0.20   \n",
      "1678          1                         5.49     7.30  ...  0.20   \n",
      "1679          1                         5.49     7.30  ...  0.20   \n",
      "1680          1                         5.49     7.30  ...  0.20   \n",
      "1681          1                         7.56     3.15  ...  0.16   \n",
      "\n",
      "      NoSuperestructura  TipoViga  AlturaViga  NoElementosPrincipales  \\\n",
      "1677                  4         2        0.73                       5   \n",
      "1678                  5         6        5.48                       2   \n",
      "1679                  1         2        0.73                       5   \n",
      "1680                  2         2        0.73                       5   \n",
      "1681                  1         6        2.55                       2   \n",
      "\n",
      "      AlineacionPlanta  TramoMaximo  TipoEstructura  Superestructura  \\\n",
      "1677                 1    11.130000               1                1   \n",
      "1678                 1    46.630001               1                4   \n",
      "1679                 1    11.130000               1                2   \n",
      "1680                 1    11.130000               1                2   \n",
      "1681                 1    18.100000               1               10   \n",
      "\n",
      "      LongitudTotal  \n",
      "1677      11.130000  \n",
      "1678      46.630001  \n",
      "1679      13.720000  \n",
      "1680      13.720000  \n",
      "1681      18.100000  \n",
      "\n",
      "[5 rows x 41 columns]\n"
     ]
    }
   ],
   "source": [
    "#Conjunto de pruebas\n",
    "X_test = features[1677:2236]\n",
    "X_test_count = len(X_test.index)\n",
    "print('Cantidad de observaciones en el conjunto de pruebas:',str(X_test_count))\n",
    "print(X_test.head())"
   ]
  },
  {
   "cell_type": "code",
   "execution_count": 14,
   "metadata": {},
   "outputs": [
    {
     "name": "stdout",
     "output_type": "stream",
     "text": [
      "Número de observaciones de la variable dependiente para el conjunto de pruebas: 545\n"
     ]
    },
    {
     "data": {
      "text/plain": [
       "1677    41.04\n",
       "1678    41.04\n",
       "1679    36.34\n",
       "1680    32.86\n",
       "1681    45.07\n",
       "Name: PrioridadReparacion, dtype: float64"
      ]
     },
     "execution_count": 14,
     "metadata": {},
     "output_type": "execute_result"
    }
   ],
   "source": [
    "#Observaciones para la variable dependiente del conjunto de pruebas \n",
    "y_test = depVar[1677:2222]\n",
    "y_test_count = len(y_test.index)\n",
    "print('Número de observaciones de la variable dependiente para el conjunto de pruebas:',str(y_test_count))\n",
    "y_test.head()"
   ]
  },
  {
   "cell_type": "markdown",
   "metadata": {},
   "source": [
    "## 6.2 Cross validation "
   ]
  },
  {
   "cell_type": "code",
   "execution_count": 58,
   "metadata": {},
   "outputs": [
    {
     "data": {
      "text/plain": [
       "((1249, 41), (417, 41))"
      ]
     },
     "execution_count": 58,
     "metadata": {},
     "output_type": "execute_result"
    }
   ],
   "source": [
    "#X_train = (features[:2222])\n",
    "#y_train = depVar[: 2222]\n",
    "X_train, X_test, y_train, y_test = train_test_split(X_train, y_train)\n",
    "X_train.shape, X_test.shape"
   ]
  },
  {
   "cell_type": "code",
   "execution_count": 16,
   "metadata": {},
   "outputs": [
    {
     "data": {
      "text/html": [
       "<div>\n",
       "<style scoped>\n",
       "    .dataframe tbody tr th:only-of-type {\n",
       "        vertical-align: middle;\n",
       "    }\n",
       "\n",
       "    .dataframe tbody tr th {\n",
       "        vertical-align: top;\n",
       "    }\n",
       "\n",
       "    .dataframe thead th {\n",
       "        text-align: right;\n",
       "    }\n",
       "</style>\n",
       "<table border=\"1\" class=\"dataframe\">\n",
       "  <thead>\n",
       "    <tr style=\"text-align: right;\">\n",
       "      <th></th>\n",
       "      <th>Provincia</th>\n",
       "      <th>Canton</th>\n",
       "      <th>Distrito</th>\n",
       "      <th>Encargado</th>\n",
       "      <th>Ruta</th>\n",
       "      <th>Kilometro</th>\n",
       "      <th>Longitud</th>\n",
       "      <th>TipoPuente</th>\n",
       "      <th>AlturaLibreVerticalInferior</th>\n",
       "      <th>Calzada</th>\n",
       "      <th>...</th>\n",
       "      <th>W7</th>\n",
       "      <th>NoSuperestructura</th>\n",
       "      <th>TipoViga</th>\n",
       "      <th>AlturaViga</th>\n",
       "      <th>NoElementosPrincipales</th>\n",
       "      <th>AlineacionPlanta</th>\n",
       "      <th>TramoMaximo</th>\n",
       "      <th>TipoEstructura</th>\n",
       "      <th>Superestructura</th>\n",
       "      <th>LongitudTotal</th>\n",
       "    </tr>\n",
       "  </thead>\n",
       "  <tbody>\n",
       "    <tr>\n",
       "      <td>2208</td>\n",
       "      <td>2</td>\n",
       "      <td>3</td>\n",
       "      <td>1</td>\n",
       "      <td>6</td>\n",
       "      <td>711</td>\n",
       "      <td>0.474000</td>\n",
       "      <td>3.80</td>\n",
       "      <td>1</td>\n",
       "      <td>3.04</td>\n",
       "      <td>4.74</td>\n",
       "      <td>...</td>\n",
       "      <td>0.00</td>\n",
       "      <td>1</td>\n",
       "      <td>1</td>\n",
       "      <td>0.26</td>\n",
       "      <td>1</td>\n",
       "      <td>2</td>\n",
       "      <td>3.80</td>\n",
       "      <td>3</td>\n",
       "      <td>1</td>\n",
       "      <td>3.80</td>\n",
       "    </tr>\n",
       "    <tr>\n",
       "      <td>343</td>\n",
       "      <td>1</td>\n",
       "      <td>1</td>\n",
       "      <td>7</td>\n",
       "      <td>2</td>\n",
       "      <td>1</td>\n",
       "      <td>2.330000</td>\n",
       "      <td>200.00</td>\n",
       "      <td>2</td>\n",
       "      <td>3.88</td>\n",
       "      <td>8.60</td>\n",
       "      <td>...</td>\n",
       "      <td>0.35</td>\n",
       "      <td>1</td>\n",
       "      <td>2</td>\n",
       "      <td>1.60</td>\n",
       "      <td>4</td>\n",
       "      <td>1</td>\n",
       "      <td>29.67</td>\n",
       "      <td>2</td>\n",
       "      <td>2</td>\n",
       "      <td>200.00</td>\n",
       "    </tr>\n",
       "    <tr>\n",
       "      <td>547</td>\n",
       "      <td>6</td>\n",
       "      <td>5</td>\n",
       "      <td>5</td>\n",
       "      <td>18</td>\n",
       "      <td>2</td>\n",
       "      <td>283.304993</td>\n",
       "      <td>46.48</td>\n",
       "      <td>1</td>\n",
       "      <td>2.98</td>\n",
       "      <td>7.30</td>\n",
       "      <td>...</td>\n",
       "      <td>0.33</td>\n",
       "      <td>3</td>\n",
       "      <td>3</td>\n",
       "      <td>1.15</td>\n",
       "      <td>4</td>\n",
       "      <td>1</td>\n",
       "      <td>15.24</td>\n",
       "      <td>3</td>\n",
       "      <td>1</td>\n",
       "      <td>15.24</td>\n",
       "    </tr>\n",
       "    <tr>\n",
       "      <td>810</td>\n",
       "      <td>2</td>\n",
       "      <td>3</td>\n",
       "      <td>6</td>\n",
       "      <td>22</td>\n",
       "      <td>140</td>\n",
       "      <td>32.180000</td>\n",
       "      <td>22.50</td>\n",
       "      <td>1</td>\n",
       "      <td>3.84</td>\n",
       "      <td>4.30</td>\n",
       "      <td>...</td>\n",
       "      <td>0.00</td>\n",
       "      <td>1</td>\n",
       "      <td>2</td>\n",
       "      <td>1.28</td>\n",
       "      <td>2</td>\n",
       "      <td>1</td>\n",
       "      <td>22.50</td>\n",
       "      <td>2</td>\n",
       "      <td>1</td>\n",
       "      <td>22.50</td>\n",
       "    </tr>\n",
       "    <tr>\n",
       "      <td>1753</td>\n",
       "      <td>6</td>\n",
       "      <td>10</td>\n",
       "      <td>3</td>\n",
       "      <td>19</td>\n",
       "      <td>614</td>\n",
       "      <td>9.132000</td>\n",
       "      <td>3.55</td>\n",
       "      <td>1</td>\n",
       "      <td>1.30</td>\n",
       "      <td>3.95</td>\n",
       "      <td>...</td>\n",
       "      <td>0.00</td>\n",
       "      <td>1</td>\n",
       "      <td>1</td>\n",
       "      <td>0.40</td>\n",
       "      <td>1</td>\n",
       "      <td>1</td>\n",
       "      <td>3.55</td>\n",
       "      <td>3</td>\n",
       "      <td>3</td>\n",
       "      <td>3.55</td>\n",
       "    </tr>\n",
       "  </tbody>\n",
       "</table>\n",
       "<p>5 rows × 41 columns</p>\n",
       "</div>"
      ],
      "text/plain": [
       "     Provincia Canton Distrito Encargado Ruta   Kilometro  Longitud  \\\n",
       "2208         2      3        1         6  711    0.474000      3.80   \n",
       "343          1      1        7         2    1    2.330000    200.00   \n",
       "547          6      5        5        18    2  283.304993     46.48   \n",
       "810          2      3        6        22  140   32.180000     22.50   \n",
       "1753         6     10        3        19  614    9.132000      3.55   \n",
       "\n",
       "     TipoPuente  AlturaLibreVerticalInferior  Calzada  ...    W7  \\\n",
       "2208          1                         3.04     4.74  ...  0.00   \n",
       "343           2                         3.88     8.60  ...  0.35   \n",
       "547           1                         2.98     7.30  ...  0.33   \n",
       "810           1                         3.84     4.30  ...  0.00   \n",
       "1753          1                         1.30     3.95  ...  0.00   \n",
       "\n",
       "      NoSuperestructura  TipoViga  AlturaViga  NoElementosPrincipales  \\\n",
       "2208                  1         1        0.26                       1   \n",
       "343                   1         2        1.60                       4   \n",
       "547                   3         3        1.15                       4   \n",
       "810                   1         2        1.28                       2   \n",
       "1753                  1         1        0.40                       1   \n",
       "\n",
       "      AlineacionPlanta  TramoMaximo  TipoEstructura  Superestructura  \\\n",
       "2208                 2         3.80               3                1   \n",
       "343                  1        29.67               2                2   \n",
       "547                  1        15.24               3                1   \n",
       "810                  1        22.50               2                1   \n",
       "1753                 1         3.55               3                3   \n",
       "\n",
       "      LongitudTotal  \n",
       "2208           3.80  \n",
       "343          200.00  \n",
       "547           15.24  \n",
       "810           22.50  \n",
       "1753           3.55  \n",
       "\n",
       "[5 rows x 41 columns]"
      ]
     },
     "execution_count": 16,
     "metadata": {},
     "output_type": "execute_result"
    }
   ],
   "source": [
    "X_train.head()"
   ]
  },
  {
   "cell_type": "markdown",
   "metadata": {},
   "source": [
    "## 6.3 Preprocesamiento para eliminar varianza y estandarizar datos"
   ]
  },
  {
   "cell_type": "code",
   "execution_count": 59,
   "metadata": {},
   "outputs": [
    {
     "data": {
      "text/plain": [
       "array([[ 1.54439979, -0.88652048, -0.94155044, ..., -0.18575556,\n",
       "        -0.48994473,  0.76971981],\n",
       "       [-0.36168256, -0.28211869, -0.94155044, ...,  0.81428194,\n",
       "        -0.48994473, -0.22554473],\n",
       "       [-1.31472373,  1.93402121, -0.23588197, ..., -1.18579307,\n",
       "        -0.48994473, -0.42505105],\n",
       "       ...,\n",
       "       [ 0.59135861, -0.48358595, -0.94155044, ..., -0.18575556,\n",
       "        -0.48994473,  0.27775538],\n",
       "       [ 1.54439979, -0.48358595, -0.94155044, ..., -1.18579307,\n",
       "        -0.48994473, -0.13032577],\n",
       "       [-0.83820315,  1.32961942, -0.94155044, ..., -1.18579307,\n",
       "        -0.48994473,  1.19593797]])"
      ]
     },
     "execution_count": 59,
     "metadata": {},
     "output_type": "execute_result"
    }
   ],
   "source": [
    "## Se experimenta con el preprocesamiento de los conjuntos de entrenamiento y pruebas para eliminar varianza y estandarizar\n",
    "## los datos\n",
    "\n",
    "X_scaled = preprocessing.scale(X_train)\n",
    "X_scaled"
   ]
  },
  {
   "cell_type": "code",
   "execution_count": 60,
   "metadata": {},
   "outputs": [
    {
     "data": {
      "text/plain": [
       "array([ 9.10222880e-17,  8.96000648e-17, -6.25778230e-17, -3.69778045e-17,\n",
       "        1.42222325e-17, -1.84889023e-17,  5.68889300e-18,  8.67556183e-17,\n",
       "       -1.28000093e-16, -5.68889300e-17,  1.25155646e-16, -5.40444835e-17,\n",
       "       -9.67111810e-17, -1.13777860e-17,  5.68889300e-18, -4.26666975e-17,\n",
       "        1.28000093e-16, -1.42222325e-18, -8.53333950e-17,  1.26044536e-14,\n",
       "        6.25778230e-17,  1.16622307e-16,  1.70666790e-17, -2.84444650e-17,\n",
       "       -1.87733469e-16,  1.18044530e-16,  3.12889115e-17,  2.14755711e-16,\n",
       "       -4.26666975e-17, -1.42222325e-17,  5.12000370e-17, -1.42222325e-17,\n",
       "        4.83555905e-17,  5.12000370e-17,  5.12000370e-17,  3.91111394e-17,\n",
       "       -1.05244521e-16, -2.13333488e-16, -1.56444558e-16, -1.99111255e-17,\n",
       "        7.96445020e-17])"
      ]
     },
     "execution_count": 60,
     "metadata": {},
     "output_type": "execute_result"
    }
   ],
   "source": [
    "X_scaled.mean(axis=0)"
   ]
  },
  {
   "cell_type": "code",
   "execution_count": 61,
   "metadata": {},
   "outputs": [
    {
     "data": {
      "text/plain": [
       "array([1., 1., 1., 1., 1., 1., 1., 1., 1., 1., 1., 1., 1., 1., 1., 1., 1.,\n",
       "       1., 1., 1., 1., 1., 1., 1., 1., 1., 1., 1., 1., 1., 1., 1., 1., 1.,\n",
       "       1., 1., 1., 1., 1., 1., 1.])"
      ]
     },
     "execution_count": 61,
     "metadata": {},
     "output_type": "execute_result"
    }
   ],
   "source": [
    "X_scaled.std(axis=0)"
   ]
  },
  {
   "cell_type": "code",
   "execution_count": 62,
   "metadata": {},
   "outputs": [
    {
     "data": {
      "text/plain": [
       "StandardScaler(copy=True, with_mean=True, with_std=True)"
      ]
     },
     "execution_count": 62,
     "metadata": {},
     "output_type": "execute_result"
    }
   ],
   "source": [
    "scaler = preprocessing.StandardScaler().fit(X_train)\n",
    "scaler"
   ]
  },
  {
   "cell_type": "code",
   "execution_count": 63,
   "metadata": {},
   "outputs": [
    {
     "data": {
      "text/plain": [
       "array([ 3.75900721e+00,  6.40032026e+00,  3.66853483e+00,  1.31601281e+01,\n",
       "        2.40563651e+02,  4.68151490e+01,  3.16478935e+01,  1.31385108e+00,\n",
       "        4.86606325e+00,  6.21895408e+00,  1.91753403e+00,  6.16385429e-01,\n",
       "        6.27502005e-02,  7.26004008e-02,  1.59239393e-02,  7.53145722e-02,\n",
       "        6.30504407e-02,  8.16209288e-01,  9.92425645e+00, -8.42031839e+01,\n",
       "        2.01361089e+00,  1.53963171e+00,  2.66773419e+00,  1.69575661e+00,\n",
       "        7.35465838e+00,  1.84198480e-01,  3.34978225e-01,  4.05523485e+00,\n",
       "        6.66191361e-02,  2.15954389e+00,  3.51545077e-01,  2.02514733e-01,\n",
       "        1.26020817e+00,  2.88710969e+00,  1.20561217e+00,  3.53562850e+00,\n",
       "        1.29783827e+00,  1.65301046e+01,  2.18574860e+00,  2.44835869e+00,\n",
       "        1.88742616e+01])"
      ]
     },
     "execution_count": 63,
     "metadata": {},
     "output_type": "execute_result"
    }
   ],
   "source": [
    "scaler.mean_"
   ]
  },
  {
   "cell_type": "code",
   "execution_count": 64,
   "metadata": {},
   "outputs": [
    {
     "data": {
      "text/plain": [
       "array([2.09854522e+00, 4.96358556e+00, 2.83419210e+00, 6.41043325e+00,\n",
       "       2.67641742e+02, 6.78597516e+01, 4.09187761e+01, 1.00716821e+00,\n",
       "       6.10443315e+00, 3.53855587e+00, 7.83387363e-01, 3.58379801e-01,\n",
       "       1.20142956e-01, 1.07139789e-01, 1.08500332e-01, 1.08316536e-01,\n",
       "       1.19184001e-01, 3.99962493e+00, 5.38672681e-01, 7.29437365e-01,\n",
       "       1.03299010e+00, 1.01402820e+00, 1.09920624e+00, 1.22634136e+00,\n",
       "       4.45336946e+00, 1.79432540e-01, 5.78698734e-01, 1.82604711e+00,\n",
       "       5.45362807e-01, 2.49703045e+00, 6.54304778e-01, 7.22824209e-01,\n",
       "       6.63851215e-01, 1.67472677e+00, 1.42450645e+00, 3.53759004e+00,\n",
       "       5.25722777e-01, 1.30990540e+01, 9.99962499e-01, 2.95616753e+00,\n",
       "       2.20544369e+01])"
      ]
     },
     "execution_count": 64,
     "metadata": {},
     "output_type": "execute_result"
    }
   ],
   "source": [
    "scaler.scale_"
   ]
  },
  {
   "cell_type": "code",
   "execution_count": 65,
   "metadata": {},
   "outputs": [],
   "source": [
    "X_train_transform = scaler.transform(X_train)\n",
    "X_test_transform = scaler.transform(X_test)"
   ]
  },
  {
   "cell_type": "markdown",
   "metadata": {},
   "source": [
    "## 6.4 Modelos  "
   ]
  },
  {
   "cell_type": "code",
   "execution_count": 106,
   "metadata": {},
   "outputs": [],
   "source": [
    "#Models\n",
    "modelSVR = SVR()\n",
    "modelRF = RandomForestRegressor()\n",
    "modelLR = LinearRegression(n_jobs=10)\n",
    "modelGB = HistGradientBoostingRegressor()"
   ]
  },
  {
   "cell_type": "code",
   "execution_count": 43,
   "metadata": {},
   "outputs": [
    {
     "name": "stderr",
     "output_type": "stream",
     "text": [
      "C:\\Users\\infoslenovo3\\Anaconda3\\lib\\site-packages\\sklearn\\ensemble\\forest.py:245: FutureWarning: The default value of n_estimators will change from 10 in version 0.20 to 100 in 0.22.\n",
      "  \"10 in version 0.20 to 100 in 0.22.\", FutureWarning)\n",
      "C:\\Users\\infoslenovo3\\Anaconda3\\lib\\site-packages\\sklearn\\model_selection\\_split.py:1978: FutureWarning: The default value of cv will change from 3 to 5 in version 0.22. Specify it explicitly to silence this warning.\n",
      "  warnings.warn(CV_WARNING, FutureWarning)\n"
     ]
    },
    {
     "name": "stdout",
     "output_type": "stream",
     "text": [
      "[0.53318517 0.62208805 0.59256195]\n"
     ]
    },
    {
     "data": {
      "text/plain": [
       "0.9335769417716824"
      ]
     },
     "execution_count": 43,
     "metadata": {},
     "output_type": "execute_result"
    }
   ],
   "source": [
    "#Random forest con los datos sin normalizar\n",
    "modelRF.fit(X_train,y_train)\n",
    "print(cross_val_score(modelRF, X_train, y_train))\n",
    "modelRF.score(X_train,y_train)"
   ]
  },
  {
   "cell_type": "code",
   "execution_count": 44,
   "metadata": {},
   "outputs": [
    {
     "name": "stderr",
     "output_type": "stream",
     "text": [
      "C:\\Users\\infoslenovo3\\Anaconda3\\lib\\site-packages\\sklearn\\model_selection\\_split.py:1978: FutureWarning: The default value of cv will change from 3 to 5 in version 0.22. Specify it explicitly to silence this warning.\n",
      "  warnings.warn(CV_WARNING, FutureWarning)\n"
     ]
    },
    {
     "name": "stdout",
     "output_type": "stream",
     "text": [
      "[0.53300402 0.60454424 0.60567527]\n"
     ]
    },
    {
     "data": {
      "text/plain": [
       "0.9311469594005646"
      ]
     },
     "execution_count": 44,
     "metadata": {},
     "output_type": "execute_result"
    }
   ],
   "source": [
    "#Random forest con los datos normalizados\n",
    "modelRF.fit(X_train_transform,y_train)\n",
    "print(cross_val_score(modelRF, X_train_transform, y_train))\n",
    "modelRF.score(X_train_transform,y_train)"
   ]
  },
  {
   "cell_type": "markdown",
   "metadata": {},
   "source": [
    "class sklearn.ensemble.RandomForestRegressor\n",
    "(n_estimators=100, criterion='mse', max_depth=None, min_samples_split=2, min_samples_leaf=1, \n",
    " min_weight_fraction_leaf=0.0, max_features='auto', max_leaf_nodes=None, min_impurity_decrease=0.0, \n",
    " min_impurity_split=None, bootstrap=True, oob_score=False, n_jobs=None, random_state=None, verbose=0, \n",
    " warm_start=False, ccp_alpha=0.0, max_samples=None)"
   ]
  },
  {
   "cell_type": "code",
   "execution_count": 83,
   "metadata": {},
   "outputs": [
    {
     "name": "stderr",
     "output_type": "stream",
     "text": [
      "C:\\Users\\infoslenovo3\\Anaconda3\\lib\\site-packages\\sklearn\\model_selection\\_split.py:1978: FutureWarning: The default value of cv will change from 3 to 5 in version 0.22. Specify it explicitly to silence this warning.\n",
      "  warnings.warn(CV_WARNING, FutureWarning)\n"
     ]
    },
    {
     "name": "stdout",
     "output_type": "stream",
     "text": [
      "[0.62809144 0.60925805 0.59181675]\n"
     ]
    },
    {
     "data": {
      "text/plain": [
       "0.9510670739457714"
      ]
     },
     "execution_count": 83,
     "metadata": {},
     "output_type": "execute_result"
    }
   ],
   "source": [
    "#Random forest con los datos normalizados\n",
    "modelRF = RandomForestRegressor(n_estimators=100, criterion='mse', max_depth=None, min_samples_split=2, min_samples_leaf=1, \n",
    " min_weight_fraction_leaf=0.0, max_features='auto', max_leaf_nodes=None, min_impurity_decrease=0.0, \n",
    " min_impurity_split=None, bootstrap=True, oob_score=False, n_jobs=None, random_state=None, verbose=0, \n",
    " warm_start=False)\n",
    "\n",
    "modelRF.fit(X_train_transform,y_train)\n",
    "print(cross_val_score(modelRF, X_train_transform, y_train))\n",
    "modelRF.score(X_train_transform,y_train)"
   ]
  },
  {
   "cell_type": "code",
   "execution_count": 144,
   "metadata": {},
   "outputs": [
    {
     "name": "stderr",
     "output_type": "stream",
     "text": [
      "C:\\Users\\infoslenovo3\\Anaconda3\\lib\\site-packages\\sklearn\\model_selection\\_split.py:1978: FutureWarning: The default value of cv will change from 3 to 5 in version 0.22. Specify it explicitly to silence this warning.\n",
      "  warnings.warn(CV_WARNING, FutureWarning)\n"
     ]
    },
    {
     "name": "stdout",
     "output_type": "stream",
     "text": [
      "[0.64782415 0.59795645 0.63555018]\n"
     ]
    },
    {
     "data": {
      "text/plain": [
       "0.9564215814828098"
      ]
     },
     "execution_count": 144,
     "metadata": {},
     "output_type": "execute_result"
    }
   ],
   "source": [
    "#Random Gradient Booting con los datos normalizados\n",
    "modelGB.fit(X_train,y_train)\n",
    "print(cross_val_score(modelGB, X_train, y_train))\n",
    "modelGB.score(X_train,y_train)"
   ]
  },
  {
   "cell_type": "markdown",
   "metadata": {},
   "source": [
    "Se experimenta con parámetros de Gradient boosting, que es el modelo que dio mejores indicadores de rendimiento"
   ]
  },
  {
   "cell_type": "markdown",
   "metadata": {},
   "source": [
    "class sklearn.ensemble.HistGradientBoostingRegressor(loss='least_squares', learning_rate=0.1, max_iter=100, max_leaf_nodes=31, max_depth=None, min_samples_leaf=20, l2_regularization=0.0, max_bins=255, warm_start=False, scoring=None, validation_fraction=0.1, n_iter_no_change=None, tol=1e-07, verbose=0, random_state=None)"
   ]
  },
  {
   "cell_type": "code",
   "execution_count": 147,
   "metadata": {},
   "outputs": [
    {
     "name": "stderr",
     "output_type": "stream",
     "text": [
      "C:\\Users\\infoslenovo3\\Anaconda3\\lib\\site-packages\\sklearn\\model_selection\\_split.py:1978: FutureWarning: The default value of cv will change from 3 to 5 in version 0.22. Specify it explicitly to silence this warning.\n",
      "  warnings.warn(CV_WARNING, FutureWarning)\n"
     ]
    },
    {
     "name": "stdout",
     "output_type": "stream",
     "text": [
      "[0.668342   0.58861027 0.62780097]\n"
     ]
    },
    {
     "data": {
      "text/plain": [
       "0.9573382469433557"
      ]
     },
     "execution_count": 147,
     "metadata": {},
     "output_type": "execute_result"
    }
   ],
   "source": [
    "#Random Gradient Booting con los datos normalizados\n",
    "modelGB = HistGradientBoostingRegressor(learning_rate=0.1, max_iter=100, max_leaf_nodes=31, max_depth=None, min_samples_leaf=20, l2_regularization=0.0, max_bins=255,scoring=None, validation_fraction=0.1, n_iter_no_change=None, tol=1e-07, verbose=0, random_state=None)\n",
    "modelGB.fit(X_train,y_train)\n",
    "print(cross_val_score(modelGB, X_train, y_train))\n",
    "modelGB.score(X_train,y_train)"
   ]
  },
  {
   "cell_type": "markdown",
   "metadata": {},
   "source": [
    "### MEJOR MODELO: "
   ]
  },
  {
   "cell_type": "code",
   "execution_count": 148,
   "metadata": {},
   "outputs": [
    {
     "name": "stderr",
     "output_type": "stream",
     "text": [
      "C:\\Users\\infoslenovo3\\Anaconda3\\lib\\site-packages\\sklearn\\model_selection\\_split.py:1978: FutureWarning: The default value of cv will change from 3 to 5 in version 0.22. Specify it explicitly to silence this warning.\n",
      "  warnings.warn(CV_WARNING, FutureWarning)\n"
     ]
    },
    {
     "name": "stdout",
     "output_type": "stream",
     "text": [
      "[0.63523973 0.57824249 0.62018385]\n"
     ]
    },
    {
     "data": {
      "text/plain": [
       "0.9887759180277296"
      ]
     },
     "execution_count": 148,
     "metadata": {},
     "output_type": "execute_result"
    }
   ],
   "source": [
    "#Random Gradient Booting con los datos normalizados\n",
    "modelGB = HistGradientBoostingRegressor(learning_rate=0.1, max_iter=200, max_leaf_nodes=62, max_depth=None, min_samples_leaf=20, l2_regularization=0.0, max_bins=255,scoring=None, validation_fraction=0.1, n_iter_no_change=None, tol=1e-07, verbose=0, random_state=None)\n",
    "modelGB.fit(X_train,y_train)\n",
    "print(cross_val_score(modelGB, X_train, y_train))\n",
    "modelGB.score(X_train,y_train)"
   ]
  },
  {
   "cell_type": "code",
   "execution_count": 110,
   "metadata": {},
   "outputs": [
    {
     "name": "stderr",
     "output_type": "stream",
     "text": [
      "C:\\Users\\infoslenovo3\\Anaconda3\\lib\\site-packages\\sklearn\\model_selection\\_split.py:1978: FutureWarning: The default value of cv will change from 3 to 5 in version 0.22. Specify it explicitly to silence this warning.\n",
      "  warnings.warn(CV_WARNING, FutureWarning)\n"
     ]
    },
    {
     "name": "stdout",
     "output_type": "stream",
     "text": [
      "[0.64776265 0.59794438 0.63555018]\n"
     ]
    },
    {
     "data": {
      "text/plain": [
       "0.9564215814828098"
      ]
     },
     "execution_count": 110,
     "metadata": {},
     "output_type": "execute_result"
    }
   ],
   "source": [
    "#Random Gradient Booting con los datos normalizados\n",
    "modelGB.fit(X_train_transform,y_train)\n",
    "print(cross_val_score(modelGB, X_train_transform, y_train))\n",
    "modelGB.score(X_train_transform,y_train)"
   ]
  },
  {
   "cell_type": "code",
   "execution_count": 84,
   "metadata": {},
   "outputs": [
    {
     "name": "stderr",
     "output_type": "stream",
     "text": [
      "C:\\Users\\infoslenovo3\\Anaconda3\\lib\\site-packages\\sklearn\\model_selection\\_split.py:1978: FutureWarning: The default value of cv will change from 3 to 5 in version 0.22. Specify it explicitly to silence this warning.\n",
      "  warnings.warn(CV_WARNING, FutureWarning)\n"
     ]
    },
    {
     "name": "stdout",
     "output_type": "stream",
     "text": [
      "[0.64826103 0.60985035 0.59477387]\n"
     ]
    },
    {
     "data": {
      "text/plain": [
       "0.9346217725229831"
      ]
     },
     "execution_count": 84,
     "metadata": {},
     "output_type": "execute_result"
    }
   ],
   "source": [
    "#Random forest con los datos normalizados\n",
    "modelRF = RandomForestRegressor(n_estimators=500, criterion='mse', max_depth=None, min_samples_split=5, min_samples_leaf=1, \n",
    " min_weight_fraction_leaf=0.0, max_features='auto', max_leaf_nodes=None, min_impurity_decrease=0.0, \n",
    " min_impurity_split=None, bootstrap=True, oob_score=False, n_jobs=None, random_state=None, verbose=0, \n",
    " warm_start=False)\n",
    "\n",
    "modelRF.fit(X_train_transform,y_train)\n",
    "print(cross_val_score(modelRF, X_train_transform, y_train))\n",
    "modelRF.score(X_train_transform,y_train)"
   ]
  },
  {
   "cell_type": "markdown",
   "metadata": {},
   "source": [
    "Se experimenta con parámetros de Random Forest que tuvo buenos indicadores de rendimiento:"
   ]
  },
  {
   "cell_type": "code",
   "execution_count": 85,
   "metadata": {},
   "outputs": [
    {
     "name": "stderr",
     "output_type": "stream",
     "text": [
      "C:\\Users\\infoslenovo3\\Anaconda3\\lib\\site-packages\\sklearn\\model_selection\\_split.py:1978: FutureWarning: The default value of cv will change from 3 to 5 in version 0.22. Specify it explicitly to silence this warning.\n",
      "  warnings.warn(CV_WARNING, FutureWarning)\n"
     ]
    },
    {
     "name": "stdout",
     "output_type": "stream",
     "text": [
      "[0.63642714 0.61286643 0.57860925]\n"
     ]
    },
    {
     "data": {
      "text/plain": [
       "0.9291959339727206"
      ]
     },
     "execution_count": 85,
     "metadata": {},
     "output_type": "execute_result"
    }
   ],
   "source": [
    "#Random forest con los datos normalizados\n",
    "modelRF = RandomForestRegressor(n_estimators=50, criterion='mse', max_depth=None, min_samples_split=5, min_samples_leaf=1, \n",
    " min_weight_fraction_leaf=0.0, max_features='auto', max_leaf_nodes=None, min_impurity_decrease=0.0, \n",
    " min_impurity_split=None, bootstrap=True, oob_score=False, n_jobs=None, random_state=None, verbose=0, \n",
    " warm_start=False)\n",
    "\n",
    "modelRF.fit(X_train_transform,y_train)\n",
    "print(cross_val_score(modelRF, X_train_transform, y_train))\n",
    "modelRF.score(X_train_transform,y_train)"
   ]
  },
  {
   "cell_type": "code",
   "execution_count": 45,
   "metadata": {},
   "outputs": [
    {
     "name": "stderr",
     "output_type": "stream",
     "text": [
      "C:\\Users\\infoslenovo3\\Anaconda3\\lib\\site-packages\\sklearn\\svm\\base.py:193: FutureWarning: The default value of gamma will change from 'auto' to 'scale' in version 0.22 to account better for unscaled features. Set gamma explicitly to 'auto' or 'scale' to avoid this warning.\n",
      "  \"avoid this warning.\", FutureWarning)\n",
      "C:\\Users\\infoslenovo3\\Anaconda3\\lib\\site-packages\\sklearn\\model_selection\\_split.py:1978: FutureWarning: The default value of cv will change from 3 to 5 in version 0.22. Specify it explicitly to silence this warning.\n",
      "  warnings.warn(CV_WARNING, FutureWarning)\n",
      "C:\\Users\\infoslenovo3\\Anaconda3\\lib\\site-packages\\sklearn\\svm\\base.py:193: FutureWarning: The default value of gamma will change from 'auto' to 'scale' in version 0.22 to account better for unscaled features. Set gamma explicitly to 'auto' or 'scale' to avoid this warning.\n",
      "  \"avoid this warning.\", FutureWarning)\n",
      "C:\\Users\\infoslenovo3\\Anaconda3\\lib\\site-packages\\sklearn\\svm\\base.py:193: FutureWarning: The default value of gamma will change from 'auto' to 'scale' in version 0.22 to account better for unscaled features. Set gamma explicitly to 'auto' or 'scale' to avoid this warning.\n",
      "  \"avoid this warning.\", FutureWarning)\n",
      "C:\\Users\\infoslenovo3\\Anaconda3\\lib\\site-packages\\sklearn\\svm\\base.py:193: FutureWarning: The default value of gamma will change from 'auto' to 'scale' in version 0.22 to account better for unscaled features. Set gamma explicitly to 'auto' or 'scale' to avoid this warning.\n",
      "  \"avoid this warning.\", FutureWarning)\n"
     ]
    },
    {
     "name": "stdout",
     "output_type": "stream",
     "text": [
      "[0.02776237 0.03073075 0.04459061]\n"
     ]
    },
    {
     "data": {
      "text/plain": [
       "0.18677394590481022"
      ]
     },
     "execution_count": 45,
     "metadata": {},
     "output_type": "execute_result"
    }
   ],
   "source": [
    "#Support Vector Regression con datos sin normalizar\n",
    "modelSVR.fit(X_train,y_train)\n",
    "print(cross_val_score(modelSVR, X_train, y_train)) \n",
    "modelSVR.score(X_train,y_train)"
   ]
  },
  {
   "cell_type": "code",
   "execution_count": 28,
   "metadata": {},
   "outputs": [
    {
     "name": "stderr",
     "output_type": "stream",
     "text": [
      "C:\\Users\\infoslenovo3\\Anaconda3\\lib\\site-packages\\sklearn\\model_selection\\_split.py:1978: FutureWarning: The default value of cv will change from 3 to 5 in version 0.22. Specify it explicitly to silence this warning.\n",
      "  warnings.warn(CV_WARNING, FutureWarning)\n",
      "C:\\Users\\infoslenovo3\\Anaconda3\\lib\\site-packages\\sklearn\\svm\\base.py:193: FutureWarning: The default value of gamma will change from 'auto' to 'scale' in version 0.22 to account better for unscaled features. Set gamma explicitly to 'auto' or 'scale' to avoid this warning.\n",
      "  \"avoid this warning.\", FutureWarning)\n",
      "C:\\Users\\infoslenovo3\\Anaconda3\\lib\\site-packages\\sklearn\\svm\\base.py:193: FutureWarning: The default value of gamma will change from 'auto' to 'scale' in version 0.22 to account better for unscaled features. Set gamma explicitly to 'auto' or 'scale' to avoid this warning.\n",
      "  \"avoid this warning.\", FutureWarning)\n",
      "C:\\Users\\infoslenovo3\\Anaconda3\\lib\\site-packages\\sklearn\\svm\\base.py:193: FutureWarning: The default value of gamma will change from 'auto' to 'scale' in version 0.22 to account better for unscaled features. Set gamma explicitly to 'auto' or 'scale' to avoid this warning.\n",
      "  \"avoid this warning.\", FutureWarning)\n"
     ]
    },
    {
     "name": "stdout",
     "output_type": "stream",
     "text": [
      "[0.23845511 0.24334109 0.27611912]\n"
     ]
    },
    {
     "data": {
      "text/plain": [
       "0.3626983116655147"
      ]
     },
     "execution_count": 28,
     "metadata": {},
     "output_type": "execute_result"
    }
   ],
   "source": [
    "#Support Vector Regression con datos normalizados\n",
    "\n",
    "modelSVR.fit(X_train_transform,y_train)\n",
    "print(cross_val_score(modelSVR, X_train_transform, y_train)) \n",
    "modelSVR.score(X_train_transform,y_train)"
   ]
  },
  {
   "cell_type": "code",
   "execution_count": 29,
   "metadata": {},
   "outputs": [
    {
     "name": "stdout",
     "output_type": "stream",
     "text": [
      "[-1.64629491e+04 -6.46925467e-01  2.25888550e-01]\n"
     ]
    },
    {
     "name": "stderr",
     "output_type": "stream",
     "text": [
      "C:\\Users\\infoslenovo3\\Anaconda3\\lib\\site-packages\\sklearn\\model_selection\\_split.py:1978: FutureWarning: The default value of cv will change from 3 to 5 in version 0.22. Specify it explicitly to silence this warning.\n",
      "  warnings.warn(CV_WARNING, FutureWarning)\n"
     ]
    },
    {
     "data": {
      "text/plain": [
       "0.31573386765649814"
      ]
     },
     "execution_count": 29,
     "metadata": {},
     "output_type": "execute_result"
    }
   ],
   "source": [
    "#Linear regression con datos sin normalizar\n",
    "modelLR.fit(X_train,y_train)\n",
    "print(cross_val_score(modelLR, X_train, y_train)) \n",
    "modelLR.score(X_train,y_train)"
   ]
  },
  {
   "cell_type": "code",
   "execution_count": 131,
   "metadata": {},
   "outputs": [
    {
     "name": "stdout",
     "output_type": "stream",
     "text": [
      "[ 2.57912085e-01 -1.24855689e+03  2.30856454e-01]\n"
     ]
    },
    {
     "name": "stderr",
     "output_type": "stream",
     "text": [
      "C:\\Users\\infoslenovo3\\Anaconda3\\lib\\site-packages\\sklearn\\model_selection\\_split.py:1978: FutureWarning: The default value of cv will change from 3 to 5 in version 0.22. Specify it explicitly to silence this warning.\n",
      "  warnings.warn(CV_WARNING, FutureWarning)\n"
     ]
    },
    {
     "data": {
      "text/plain": [
       "0.3305050855601963"
      ]
     },
     "execution_count": 131,
     "metadata": {},
     "output_type": "execute_result"
    }
   ],
   "source": [
    "#Linear regression con datos normalizados\n",
    "\n",
    "# Se intentó cambiar los parámetros con distintos valores pero da el mismo resultado\n",
    "modelLR = LinearRegression(normalize=True,  n_jobs=100)  \n",
    "\n",
    "modelLR.fit(X_train_transform,y_train)\n",
    "print(cross_val_score(modelLR, X_train_transform, y_train)) \n",
    "modelLR.score(X_train_transform,y_train)"
   ]
  },
  {
   "cell_type": "code",
   "execution_count": 130,
   "metadata": {},
   "outputs": [
    {
     "name": "stdout",
     "output_type": "stream",
     "text": [
      "[ 2.57912085e-01 -1.24855690e+03  2.30856454e-01]\n"
     ]
    },
    {
     "name": "stderr",
     "output_type": "stream",
     "text": [
      "C:\\Users\\infoslenovo3\\Anaconda3\\lib\\site-packages\\sklearn\\model_selection\\_split.py:1978: FutureWarning: The default value of cv will change from 3 to 5 in version 0.22. Specify it explicitly to silence this warning.\n",
      "  warnings.warn(CV_WARNING, FutureWarning)\n"
     ]
    },
    {
     "data": {
      "text/plain": [
       "0.3305050855601951"
      ]
     },
     "execution_count": 130,
     "metadata": {},
     "output_type": "execute_result"
    }
   ],
   "source": [
    "#Linear regression con datos normalizados\n",
    "\n",
    "# Se intentó cambiar los parámetros con distintos valores pero da el mismo resultado\n",
    "modelLR = LinearRegression(normalize=False,  n_jobs=100)  \n",
    "\n",
    "modelLR.fit(X_train_transform,y_train)\n",
    "print(cross_val_score(modelLR, X_train_transform, y_train)) \n",
    "modelLR.score(X_train_transform,y_train)"
   ]
  },
  {
   "cell_type": "code",
   "execution_count": 116,
   "metadata": {},
   "outputs": [
    {
     "name": "stdout",
     "output_type": "stream",
     "text": [
      "[0.13721944 0.06759856 0.05747205]\n"
     ]
    },
    {
     "name": "stderr",
     "output_type": "stream",
     "text": [
      "C:\\Users\\infoslenovo3\\Anaconda3\\lib\\site-packages\\sklearn\\model_selection\\_split.py:1978: FutureWarning: The default value of cv will change from 3 to 5 in version 0.22. Specify it explicitly to silence this warning.\n",
      "  warnings.warn(CV_WARNING, FutureWarning)\n"
     ]
    },
    {
     "data": {
      "text/plain": [
       "0.7555080010928603"
      ]
     },
     "execution_count": 116,
     "metadata": {},
     "output_type": "execute_result"
    }
   ],
   "source": [
    "modelKNN = neighbors.KNeighborsRegressor(n_neighbors = 2)\n",
    "modelKNN.fit(X_train, y_train)  #fit the model\n",
    "print(cross_val_score(modelKNN, X_train, y_train)) \n",
    "modelKNN.score(X_train,y_train)"
   ]
  },
  {
   "cell_type": "code",
   "execution_count": 115,
   "metadata": {},
   "outputs": [
    {
     "name": "stdout",
     "output_type": "stream",
     "text": [
      "[0.20090659 0.18572023 0.10965524]\n"
     ]
    },
    {
     "name": "stderr",
     "output_type": "stream",
     "text": [
      "C:\\Users\\infoslenovo3\\Anaconda3\\lib\\site-packages\\sklearn\\model_selection\\_split.py:1978: FutureWarning: The default value of cv will change from 3 to 5 in version 0.22. Specify it explicitly to silence this warning.\n",
      "  warnings.warn(CV_WARNING, FutureWarning)\n"
     ]
    },
    {
     "data": {
      "text/plain": [
       "0.39181852305904047"
      ]
     },
     "execution_count": 115,
     "metadata": {},
     "output_type": "execute_result"
    }
   ],
   "source": [
    "modelKNN = neighbors.KNeighborsRegressor(n_neighbors = 10)\n",
    "modelKNN.fit(X_train, y_train)  #fit the model\n",
    "print(cross_val_score(modelKNN, X_train, y_train)) \n",
    "modelKNN.score(X_train,y_train)"
   ]
  },
  {
   "cell_type": "code",
   "execution_count": 113,
   "metadata": {},
   "outputs": [
    {
     "name": "stdout",
     "output_type": "stream",
     "text": [
      "[0.33811574 0.26099079 0.40256952]\n"
     ]
    },
    {
     "name": "stderr",
     "output_type": "stream",
     "text": [
      "C:\\Users\\infoslenovo3\\Anaconda3\\lib\\site-packages\\sklearn\\model_selection\\_split.py:1978: FutureWarning: The default value of cv will change from 3 to 5 in version 0.22. Specify it explicitly to silence this warning.\n",
      "  warnings.warn(CV_WARNING, FutureWarning)\n"
     ]
    },
    {
     "data": {
      "text/plain": [
       "0.7976701937841847"
      ]
     },
     "execution_count": 113,
     "metadata": {},
     "output_type": "execute_result"
    }
   ],
   "source": [
    "modelKNN = neighbors.KNeighborsRegressor(n_neighbors = 2)\n",
    "modelKNN.fit(X_train_transform, y_train)  #fit the model\n",
    "print(cross_val_score(modelKNN, X_train_transform, y_train)) \n",
    "modelKNN.score(X_train_transform,y_train)"
   ]
  },
  {
   "cell_type": "code",
   "execution_count": 114,
   "metadata": {},
   "outputs": [
    {
     "name": "stderr",
     "output_type": "stream",
     "text": [
      "C:\\Users\\infoslenovo3\\Anaconda3\\lib\\site-packages\\sklearn\\model_selection\\_split.py:1978: FutureWarning: The default value of cv will change from 3 to 5 in version 0.22. Specify it explicitly to silence this warning.\n",
      "  warnings.warn(CV_WARNING, FutureWarning)\n"
     ]
    },
    {
     "name": "stdout",
     "output_type": "stream",
     "text": [
      "[0.3779371  0.33277077 0.36866933]\n"
     ]
    },
    {
     "data": {
      "text/plain": [
       "0.6506068655979801"
      ]
     },
     "execution_count": 114,
     "metadata": {},
     "output_type": "execute_result"
    }
   ],
   "source": [
    "#KNN con los datos normalizados\n",
    "modelKNN = neighbors.KNeighborsRegressor(n_neighbors = 5)\n",
    "modelKNN.fit(X_train_transform, y_train)  #fit the model\n",
    "print(cross_val_score(modelKNN, X_train_transform, y_train)) \n",
    "modelKNN.score(X_train_transform,y_train)"
   ]
  },
  {
   "cell_type": "markdown",
   "metadata": {},
   "source": [
    "## 6.5 Predicciones - se escoge Gradient Boosting que tuvo score 0.98"
   ]
  },
  {
   "cell_type": "code",
   "execution_count": 87,
   "metadata": {},
   "outputs": [
    {
     "name": "stderr",
     "output_type": "stream",
     "text": [
      "C:\\Users\\infoslenovo3\\Anaconda3\\lib\\site-packages\\sklearn\\model_selection\\_split.py:1978: FutureWarning: The default value of cv will change from 3 to 5 in version 0.22. Specify it explicitly to silence this warning.\n",
      "  warnings.warn(CV_WARNING, FutureWarning)\n"
     ]
    },
    {
     "name": "stdout",
     "output_type": "stream",
     "text": [
      "[0.65153965 0.60730963 0.59833978]\n"
     ]
    },
    {
     "data": {
      "text/plain": [
       "0.9509019196172309"
      ]
     },
     "execution_count": 87,
     "metadata": {},
     "output_type": "execute_result"
    }
   ],
   "source": [
    "#Random forest con los datos normalizados\n",
    "modelRF = RandomForestRegressor(n_estimators=100, criterion='mse', max_depth=None, min_samples_split=2, min_samples_leaf=1, \n",
    " min_weight_fraction_leaf=0.0, max_features='auto', max_leaf_nodes=None, min_impurity_decrease=0.0, \n",
    " min_impurity_split=None, bootstrap=True, oob_score=False, n_jobs=None, random_state=None, verbose=0, \n",
    " warm_start=False)\n",
    "\n",
    "modelRF.fit(X_train_transform,y_train)\n",
    "print(cross_val_score(modelRF, X_train_transform, y_train))\n",
    "modelRF.score(X_train_transform,y_train)"
   ]
  },
  {
   "cell_type": "code",
   "execution_count": 88,
   "metadata": {},
   "outputs": [
    {
     "name": "stdout",
     "output_type": "stream",
     "text": [
      "R Squared: 0.616\n",
      "RMSE: 6.022\n"
     ]
    }
   ],
   "source": [
    "#Make Predictions\n",
    "predictions = modelRF.predict(X_test_transform)\n",
    "predRsquared = r2_score(y_test,predictions)\n",
    "rmse = sqrt(mean_squared_error(y_test, predictions))\n",
    "print('R Squared: %.3f' % predRsquared)\n",
    "print('RMSE: %.3f' % rmse)"
   ]
  },
  {
   "cell_type": "code",
   "execution_count": 111,
   "metadata": {},
   "outputs": [
    {
     "name": "stdout",
     "output_type": "stream",
     "text": [
      "R Squared: 0.625\n",
      "RMSE: 5.949\n"
     ]
    }
   ],
   "source": [
    "\n",
    "\n",
    "#Make Predictions\n",
    "predictions = modelGB.predict(X_test_transform)\n",
    "predRsquared = r2_score(y_test,predictions)\n",
    "rmse = sqrt(mean_squared_error(y_test, predictions))\n",
    "print('R Squared: %.3f' % predRsquared)\n",
    "print('RMSE: %.3f' % rmse)"
   ]
  },
  {
   "cell_type": "markdown",
   "metadata": {},
   "source": [
    "### 6.5.1 Ploting results "
   ]
  },
  {
   "cell_type": "code",
   "execution_count": 112,
   "metadata": {},
   "outputs": [
    {
     "data": {
      "image/png": "[encoded data removed]",
      "text/plain": [
       "<Figure size 432x288 with 1 Axes>"
      ]
     },
     "metadata": {
      "needs_background": "light"
     },
     "output_type": "display_data"
    }
   ],
   "source": [
    "plt.scatter(y_test, predictions, color=['blue'], alpha = 0.5)\n",
    "plt.xlabel('Ground Truth')\n",
    "plt.ylabel('Predictions')\n",
    "plt.show()"
   ]
  },
  {
   "cell_type": "markdown",
   "metadata": {},
   "source": [
    "### 6.5.2 Se comparan las predicciones de los diferentes modelos "
   ]
  },
  {
   "cell_type": "code",
   "execution_count": 120,
   "metadata": {},
   "outputs": [],
   "source": [
    "import matplotlib.pyplot as plt\n",
    "\n",
    "\n",
    "def plot_regression_results(ax, y_true, y_pred, title, scores, elapsed_time):\n",
    "    \"\"\"Scatter plot of the predicted vs true targets.\"\"\"\n",
    "    ax.plot([y_true.min(), y_true.max()],\n",
    "            [y_true.min(), y_true.max()],\n",
    "            '--r', linewidth=2)\n",
    "    ax.scatter(y_true, y_pred, alpha=0.2)\n",
    "\n",
    "    ax.spines['top'].set_visible(False)\n",
    "    ax.spines['right'].set_visible(False)\n",
    "    ax.get_xaxis().tick_bottom()\n",
    "    ax.get_yaxis().tick_left()\n",
    "    ax.spines['left'].set_position(('outward', 10))\n",
    "    ax.spines['bottom'].set_position(('outward', 10))\n",
    "    ax.set_xlim([y_true.min(), y_true.max()])\n",
    "    ax.set_ylim([y_true.min(), y_true.max()])\n",
    "    ax.set_xlabel('Measured')\n",
    "    ax.set_ylabel('Predicted')\n",
    "    extra = plt.Rectangle((0, 0), 0, 0, fc=\"w\", fill=False,\n",
    "                          edgecolor='none', linewidth=0)\n",
    "    ax.legend([extra], [scores], loc='upper left')\n",
    "    title = title + '\\n Evaluation in {:.2f} seconds'.format(elapsed_time)\n",
    "    ax.set_title(title)"
   ]
  },
  {
   "cell_type": "code",
   "execution_count": 149,
   "metadata": {},
   "outputs": [],
   "source": [
    "estimators = [\n",
    "    ('Random Forest', RandomForestRegressor(n_estimators=100, criterion='mse', max_depth=None, min_samples_split=2, min_samples_leaf=1, min_weight_fraction_leaf=0.0, max_features='auto', max_leaf_nodes=None, min_impurity_decrease=0.0, min_impurity_split=None, bootstrap=True, oob_score=False, n_jobs=None, random_state=None, verbose=0, warm_start=False)),\n",
    "    ('KNN', neighbors.KNeighborsRegressor(n_neighbors = 2)),\n",
    "    ('Gradient Boosting', HistGradientBoostingRegressor(learning_rate=0.1, max_iter=200, max_leaf_nodes=62, max_depth=None, min_samples_leaf=20, l2_regularization=0.0, max_bins=255,scoring=None, validation_fraction=0.1, n_iter_no_change=None, tol=1e-07, verbose=0, random_state=None)),\n",
    "    ('Linear Regression',LinearRegression(normalize=False,  n_jobs=100))\n",
    "]\n",
    " #('Subvector',SVR())\n",
    "\n",
    "#stacking_regressor = StackingRegressor(\n",
    "#    estimators=estimators, final_estimator=RidgeCV()\n",
    "#)"
   ]
  },
  {
   "cell_type": "code",
   "execution_count": 135,
   "metadata": {},
   "outputs": [
    {
     "data": {
      "image/png": "[encoded data removed]",
      "text/plain": [
       "<Figure size 648x504 with 4 Axes>"
      ]
     },
     "metadata": {
      "needs_background": "light"
     },
     "output_type": "display_data"
    }
   ],
   "source": [
    "import time\n",
    "import numpy as np\n",
    "from sklearn.model_selection import cross_validate, cross_val_predict\n",
    "\n",
    "#X, y = load_boston(return_X_y=True)\n",
    "\n",
    "X = X_train\n",
    "y = y_train\n",
    "\n",
    "fig, axs = plt.subplots(2, 2, figsize=(9, 7))\n",
    "axs = np.ravel(axs)\n",
    "\n",
    "#for ax, (name, est) in zip(axs, estimators + [('Stacking Regressor',\n",
    "#                                               stacking_regressor)]):\n",
    "    \n",
    "for ax, (name, est) in zip(axs, estimators):    \n",
    "    start_time = time.time()\n",
    "    score = cross_validate(est, X, y,\n",
    "                           scoring=['r2', 'neg_mean_absolute_error'],\n",
    "                           n_jobs=-1, verbose=0)\n",
    "    elapsed_time = time.time() - start_time\n",
    "\n",
    "    y_pred = cross_val_predict(est, X, y, n_jobs=-1, verbose=0)\n",
    "    plot_regression_results(\n",
    "        ax, y, y_pred,\n",
    "        name,\n",
    "        (r'$R^2={:.2f} \\pm {:.2f}$' + '\\n' + r'$MAE={:.2f} \\pm {:.2f}$')\n",
    "        .format(np.mean(score['test_r2']),\n",
    "                np.std(score['test_r2']),\n",
    "                -np.mean(score['test_neg_mean_absolute_error']),\n",
    "                np.std(score['test_neg_mean_absolute_error'])),\n",
    "        elapsed_time)\n",
    "\n",
    "plt.suptitle('Single predictors')\n",
    "plt.tight_layout()\n",
    "plt.subplots_adjust(top=0.9)\n",
    "plt.show()"
   ]
  },
  {
   "cell_type": "markdown",
   "metadata": {},
   "source": [
    "NOTA: del diagrama anterior se puede validar que el clasificador Gradient Boosting tiene mejor resultados con el conjunto de pruebas (0.63 en comparación con RandomForest con 0.57 que es el clasificador en segundo lugar en rendimiento).\n",
    "Es importante indicar que el algoritmo seleccionado tuvo un rendimiento de 0.98 en entrenamiento pero al probarlo en los datos de prueba su rendimiento bajó a 0.63"
   ]
  },
  {
   "cell_type": "markdown",
   "metadata": {},
   "source": [
    "# 7. Conclusiones"
   ]
  },
  {
   "cell_type": "markdown",
   "metadata": {},
   "source": [
    "1. A la pregunta \"¿se puede determinar una \"prioridad\" para planificar las inspecciones de los puentes restantes?\", se puede indicar que existe una buena aproximación del algoritmo seleccionado que permite tener una certeza del 63% (más/menos 2%) para obtener un criterio objetivo para planificar las labores de inspección.\n",
    "\n",
    "2. Este análisis es vigente en la situación actual de la infraestructura vial del país. Una vez que el CONAVI realice las intervenciones para reparar los puentes o un subconjunto de ellos se debe volver a realizar un análisis y modelado cuando se tenga un segundo ciclo de inspecciones.    "
   ]
  }
 ],
 "metadata": {
  "kernelspec": {
   "display_name": "Python 3",
   "language": "python",
   "name": "python3"
  },
  "language_info": {
   "codemirror_mode": {
    "name": "ipython",
    "version": 3
   },
   "file_extension": ".py",
   "mimetype": "text/x-python",
   "name": "python",
   "nbconvert_exporter": "python",
   "pygments_lexer": "ipython3",
   "version": "3.7.4"
  }
 },
 "nbformat": 4,
 "nbformat_minor": 2
}
